{
 "cells": [
  {
   "cell_type": "markdown",
   "metadata": {},
   "source": [
    "\n",
    "\n",
    "# IMDb Data Analysis(1960-2015)\n",
    "\n",
    "## Table of Contents\n",
    "<ul>\n",
    "<li><a href=\"#intro\">Introduction</a></li>\n",
    "<li><a href=\"#wrangling\">Data Wrangling</a></li>\n",
    "<li><a href=\"#eda\">Exploratory Data Analysis</a></li>\n",
    "<li><a href=\"#conclusions\">Conclusions</a></li>\n",
    "</ul>"
   ]
  },
  {
   "cell_type": "markdown",
   "metadata": {},
   "source": [
    "<a id='intro'></a>\n",
    "## Introduction\n",
    "\n",
    "This data set contains information of about 10,000 movies collected from The Movie Database (TMDb), including popularity, budget and revenue. It also includes two columns ending with “_adj” which show the budget and revenue of the associated movie in terms of 2010 dollars, accounting for inflation over time.\n",
    "\n",
    ">**Variable Description**\n",
    "\n",
    "The following are the variables in the database and thier description:\n",
    "1. id: Movie ID number  \n",
    "2. imdb_id: IMDb Movie ID Number \n",
    "3. popularity: represents how popular a movie is among the fans\n",
    "4. budget: represents the budget of the movie \n",
    "5. revenue: represents the gross revenue of the movie \n",
    "6. original_title: represents the title of the movie \n",
    "7. cast: represents the actors in the movie\n",
    "8. homepage: represents the website for the movie \n",
    "9. director: represents the director/s of the movie \n",
    "10. tagline: represents a quote synonymous with the movie  \n",
    "11. keywords: represents words synonymous with the movie \n",
    "12. overview: represents the plot line of the movie \n",
    "13. runtime: represents the overall length of the movie in minutes  \n",
    "14. genres: represnets the type of movie \n",
    "15. production_companies: represents the production company that produced the movie \n",
    "16. release_date: represents the date the movie was released \n",
    "17. vote_count: represents the count of votes the movie received \n",
    "18. vote_average: represents the voting average out of 10 the movie received\n",
    "19. release_year: represents the year the movie was released          \n",
    "20. budget_adj: represents the budget of the movie in terms of 2010 dollars, accounting for inflation over time\n",
    "21. revenue_adj: represents the budget of the movie in terms of 2010 dollars, accounting for inflation over time   \n",
    "\n",
    ">**Research Questions**\n",
    "1. What are the highest grossing movies?\n",
    "\n",
    "   a) Are the highest grossing movies popular? \n",
    "   \n",
    "   b) What is the vote average for the highest grossing movies?\n",
    "   \n",
    "2. Are the most popular movies also the highest grossing movies? \n",
    "\n",
    "3. Does the average vote reflect the popularity of a movie? \n",
    "\n",
    "4. Which movies have the longest runtime? \n",
    "\n",
    "5. Using the budget to profit ratio are the most profitable movies also the highest grossing movies? \n",
    "\n",
    "6. Who are the Top 10 directors in terms of the following:\n",
    "\n",
    "   a) popularity? \n",
    "\n",
    "   b) Vote average?\n",
    "   \n",
    "   c) number of movies directed?\n",
    "   \n",
    "7. Who are the Top 20 Actors of in terms of the movies they have featured in? \n",
    "\n",
    "\n",
    ">**Packages to be Used**\n",
    "\n",
    "The packages to be used in this analysis are:\n",
    "1. Pandas\n",
    "2. Numpy\n",
    "3. Seaborn\n",
    "4. Matplotlib \n",
    "\n",
    "\n",
    "### References\n",
    "\n",
    "https://www.kaggle.com/code/trentpark/data-analysis-basics-imdb-dataset/notebook\n",
    "\n",
    "https://www.youtube.com/watch?v=i4cI4y9cLzg\n",
    "\n",
    "https://www.youtube.com/watch?v=Asm2_qgBK48&t=161s\n",
    "\n",
    "https://github.com/hima888/Investigate-a-Dataset-TMDB-Movie-Data-/blob/master/investigate-a-dataset-template.ipynb\n",
    "\n",
    "https://github.com/AhmedS-Elmekawy/TMDb-Movie-Data-Analysis\n",
    "\n",
    "https://www.kaggle.com/code/betizazualemu/tmdb-movies-analysis-ipynb\n"
   ]
  },
  {
   "cell_type": "code",
   "execution_count": 56,
   "metadata": {},
   "outputs": [],
   "source": [
    "\n",
    "import pandas as pd\n",
    "import numpy as np\n",
    "import seaborn as sns\n",
    "import matplotlib.pyplot as plt\n",
    "%matplotlib inline\n"
   ]
  },
  {
   "cell_type": "markdown",
   "metadata": {},
   "source": [
    "<a id='wrangling'></a>\n",
    "## Data Wrangling\n",
    "\n",
    "In this section, the data is loaded and checked for general properties.\n",
    "\n",
    "### General Properties"
   ]
  },
  {
   "cell_type": "code",
   "execution_count": 57,
   "metadata": {},
   "outputs": [
    {
     "data": {
      "text/html": [
       "<div>\n",
       "<style scoped>\n",
       "    .dataframe tbody tr th:only-of-type {\n",
       "        vertical-align: middle;\n",
       "    }\n",
       "\n",
       "    .dataframe tbody tr th {\n",
       "        vertical-align: top;\n",
       "    }\n",
       "\n",
       "    .dataframe thead th {\n",
       "        text-align: right;\n",
       "    }\n",
       "</style>\n",
       "<table border=\"1\" class=\"dataframe\">\n",
       "  <thead>\n",
       "    <tr style=\"text-align: right;\">\n",
       "      <th></th>\n",
       "      <th>id</th>\n",
       "      <th>imdb_id</th>\n",
       "      <th>popularity</th>\n",
       "      <th>budget</th>\n",
       "      <th>revenue</th>\n",
       "      <th>original_title</th>\n",
       "      <th>cast</th>\n",
       "      <th>homepage</th>\n",
       "      <th>director</th>\n",
       "      <th>tagline</th>\n",
       "      <th>...</th>\n",
       "      <th>overview</th>\n",
       "      <th>runtime</th>\n",
       "      <th>genres</th>\n",
       "      <th>production_companies</th>\n",
       "      <th>release_date</th>\n",
       "      <th>vote_count</th>\n",
       "      <th>vote_average</th>\n",
       "      <th>release_year</th>\n",
       "      <th>budget_adj</th>\n",
       "      <th>revenue_adj</th>\n",
       "    </tr>\n",
       "  </thead>\n",
       "  <tbody>\n",
       "    <tr>\n",
       "      <th>0</th>\n",
       "      <td>135397</td>\n",
       "      <td>tt0369610</td>\n",
       "      <td>32.985763</td>\n",
       "      <td>150000000</td>\n",
       "      <td>1513528810</td>\n",
       "      <td>Jurassic World</td>\n",
       "      <td>Chris Pratt|Bryce Dallas Howard|Irrfan Khan|Vi...</td>\n",
       "      <td>http://www.jurassicworld.com/</td>\n",
       "      <td>Colin Trevorrow</td>\n",
       "      <td>The park is open.</td>\n",
       "      <td>...</td>\n",
       "      <td>Twenty-two years after the events of Jurassic ...</td>\n",
       "      <td>124</td>\n",
       "      <td>Action|Adventure|Science Fiction|Thriller</td>\n",
       "      <td>Universal Studios|Amblin Entertainment|Legenda...</td>\n",
       "      <td>06/09/2015</td>\n",
       "      <td>5562</td>\n",
       "      <td>6.5</td>\n",
       "      <td>2015</td>\n",
       "      <td>137999939.3</td>\n",
       "      <td>1.392446e+09</td>\n",
       "    </tr>\n",
       "    <tr>\n",
       "      <th>1</th>\n",
       "      <td>76341</td>\n",
       "      <td>tt1392190</td>\n",
       "      <td>28.419936</td>\n",
       "      <td>150000000</td>\n",
       "      <td>378436354</td>\n",
       "      <td>Mad Max: Fury Road</td>\n",
       "      <td>Tom Hardy|Charlize Theron|Hugh Keays-Byrne|Nic...</td>\n",
       "      <td>http://www.madmaxmovie.com/</td>\n",
       "      <td>George Miller</td>\n",
       "      <td>What a Lovely Day.</td>\n",
       "      <td>...</td>\n",
       "      <td>An apocalyptic story set in the furthest reach...</td>\n",
       "      <td>120</td>\n",
       "      <td>Action|Adventure|Science Fiction|Thriller</td>\n",
       "      <td>Village Roadshow Pictures|Kennedy Miller Produ...</td>\n",
       "      <td>5/13/15</td>\n",
       "      <td>6185</td>\n",
       "      <td>7.1</td>\n",
       "      <td>2015</td>\n",
       "      <td>137999939.3</td>\n",
       "      <td>3.481613e+08</td>\n",
       "    </tr>\n",
       "    <tr>\n",
       "      <th>2</th>\n",
       "      <td>262500</td>\n",
       "      <td>tt2908446</td>\n",
       "      <td>13.112507</td>\n",
       "      <td>110000000</td>\n",
       "      <td>295238201</td>\n",
       "      <td>Insurgent</td>\n",
       "      <td>Shailene Woodley|Theo James|Kate Winslet|Ansel...</td>\n",
       "      <td>http://www.thedivergentseries.movie/#insurgent</td>\n",
       "      <td>Robert Schwentke</td>\n",
       "      <td>One Choice Can Destroy You</td>\n",
       "      <td>...</td>\n",
       "      <td>Beatrice Prior must confront her inner demons ...</td>\n",
       "      <td>119</td>\n",
       "      <td>Adventure|Science Fiction|Thriller</td>\n",
       "      <td>Summit Entertainment|Mandeville Films|Red Wago...</td>\n",
       "      <td>3/18/15</td>\n",
       "      <td>2480</td>\n",
       "      <td>6.3</td>\n",
       "      <td>2015</td>\n",
       "      <td>101199955.5</td>\n",
       "      <td>2.716190e+08</td>\n",
       "    </tr>\n",
       "    <tr>\n",
       "      <th>3</th>\n",
       "      <td>140607</td>\n",
       "      <td>tt2488496</td>\n",
       "      <td>11.173104</td>\n",
       "      <td>200000000</td>\n",
       "      <td>2068178225</td>\n",
       "      <td>Star Wars: The Force Awakens</td>\n",
       "      <td>Harrison Ford|Mark Hamill|Carrie Fisher|Adam D...</td>\n",
       "      <td>http://www.starwars.com/films/star-wars-episod...</td>\n",
       "      <td>J.J. Abrams</td>\n",
       "      <td>Every generation has a story.</td>\n",
       "      <td>...</td>\n",
       "      <td>Thirty years after defeating the Galactic Empi...</td>\n",
       "      <td>136</td>\n",
       "      <td>Action|Adventure|Science Fiction|Fantasy</td>\n",
       "      <td>Lucasfilm|Truenorth Productions|Bad Robot</td>\n",
       "      <td>12/15/15</td>\n",
       "      <td>5292</td>\n",
       "      <td>7.5</td>\n",
       "      <td>2015</td>\n",
       "      <td>183999919.0</td>\n",
       "      <td>1.902723e+09</td>\n",
       "    </tr>\n",
       "    <tr>\n",
       "      <th>4</th>\n",
       "      <td>168259</td>\n",
       "      <td>tt2820852</td>\n",
       "      <td>9.335014</td>\n",
       "      <td>190000000</td>\n",
       "      <td>1506249360</td>\n",
       "      <td>Furious 7</td>\n",
       "      <td>Vin Diesel|Paul Walker|Jason Statham|Michelle ...</td>\n",
       "      <td>http://www.furious7.com/</td>\n",
       "      <td>James Wan</td>\n",
       "      <td>Vengeance Hits Home</td>\n",
       "      <td>...</td>\n",
       "      <td>Deckard Shaw seeks revenge against Dominic Tor...</td>\n",
       "      <td>137</td>\n",
       "      <td>Action|Crime|Thriller</td>\n",
       "      <td>Universal Pictures|Original Film|Media Rights ...</td>\n",
       "      <td>04/01/2015</td>\n",
       "      <td>2947</td>\n",
       "      <td>7.3</td>\n",
       "      <td>2015</td>\n",
       "      <td>174799923.1</td>\n",
       "      <td>1.385749e+09</td>\n",
       "    </tr>\n",
       "  </tbody>\n",
       "</table>\n",
       "<p>5 rows × 21 columns</p>\n",
       "</div>"
      ],
      "text/plain": [
       "       id    imdb_id  popularity     budget     revenue  \\\n",
       "0  135397  tt0369610   32.985763  150000000  1513528810   \n",
       "1   76341  tt1392190   28.419936  150000000   378436354   \n",
       "2  262500  tt2908446   13.112507  110000000   295238201   \n",
       "3  140607  tt2488496   11.173104  200000000  2068178225   \n",
       "4  168259  tt2820852    9.335014  190000000  1506249360   \n",
       "\n",
       "                 original_title  \\\n",
       "0                Jurassic World   \n",
       "1            Mad Max: Fury Road   \n",
       "2                     Insurgent   \n",
       "3  Star Wars: The Force Awakens   \n",
       "4                     Furious 7   \n",
       "\n",
       "                                                cast  \\\n",
       "0  Chris Pratt|Bryce Dallas Howard|Irrfan Khan|Vi...   \n",
       "1  Tom Hardy|Charlize Theron|Hugh Keays-Byrne|Nic...   \n",
       "2  Shailene Woodley|Theo James|Kate Winslet|Ansel...   \n",
       "3  Harrison Ford|Mark Hamill|Carrie Fisher|Adam D...   \n",
       "4  Vin Diesel|Paul Walker|Jason Statham|Michelle ...   \n",
       "\n",
       "                                            homepage          director  \\\n",
       "0                      http://www.jurassicworld.com/   Colin Trevorrow   \n",
       "1                        http://www.madmaxmovie.com/     George Miller   \n",
       "2     http://www.thedivergentseries.movie/#insurgent  Robert Schwentke   \n",
       "3  http://www.starwars.com/films/star-wars-episod...       J.J. Abrams   \n",
       "4                           http://www.furious7.com/         James Wan   \n",
       "\n",
       "                         tagline  ...  \\\n",
       "0              The park is open.  ...   \n",
       "1             What a Lovely Day.  ...   \n",
       "2     One Choice Can Destroy You  ...   \n",
       "3  Every generation has a story.  ...   \n",
       "4            Vengeance Hits Home  ...   \n",
       "\n",
       "                                            overview runtime  \\\n",
       "0  Twenty-two years after the events of Jurassic ...     124   \n",
       "1  An apocalyptic story set in the furthest reach...     120   \n",
       "2  Beatrice Prior must confront her inner demons ...     119   \n",
       "3  Thirty years after defeating the Galactic Empi...     136   \n",
       "4  Deckard Shaw seeks revenge against Dominic Tor...     137   \n",
       "\n",
       "                                      genres  \\\n",
       "0  Action|Adventure|Science Fiction|Thriller   \n",
       "1  Action|Adventure|Science Fiction|Thriller   \n",
       "2         Adventure|Science Fiction|Thriller   \n",
       "3   Action|Adventure|Science Fiction|Fantasy   \n",
       "4                      Action|Crime|Thriller   \n",
       "\n",
       "                                production_companies release_date vote_count  \\\n",
       "0  Universal Studios|Amblin Entertainment|Legenda...   06/09/2015       5562   \n",
       "1  Village Roadshow Pictures|Kennedy Miller Produ...      5/13/15       6185   \n",
       "2  Summit Entertainment|Mandeville Films|Red Wago...      3/18/15       2480   \n",
       "3          Lucasfilm|Truenorth Productions|Bad Robot     12/15/15       5292   \n",
       "4  Universal Pictures|Original Film|Media Rights ...   04/01/2015       2947   \n",
       "\n",
       "   vote_average  release_year   budget_adj   revenue_adj  \n",
       "0           6.5          2015  137999939.3  1.392446e+09  \n",
       "1           7.1          2015  137999939.3  3.481613e+08  \n",
       "2           6.3          2015  101199955.5  2.716190e+08  \n",
       "3           7.5          2015  183999919.0  1.902723e+09  \n",
       "4           7.3          2015  174799923.1  1.385749e+09  \n",
       "\n",
       "[5 rows x 21 columns]"
      ]
     },
     "execution_count": 57,
     "metadata": {},
     "output_type": "execute_result"
    }
   ],
   "source": [
    "#loading data\n",
    "\n",
    "imdb_data = pd.read_csv('tmdb-movies.csv')\n",
    "\n",
    "imdb_data.head()"
   ]
  },
  {
   "cell_type": "code",
   "execution_count": 58,
   "metadata": {},
   "outputs": [
    {
     "name": "stdout",
     "output_type": "stream",
     "text": [
      "<class 'pandas.core.frame.DataFrame'>\n",
      "RangeIndex: 10866 entries, 0 to 10865\n",
      "Data columns (total 21 columns):\n",
      " #   Column                Non-Null Count  Dtype  \n",
      "---  ------                --------------  -----  \n",
      " 0   id                    10866 non-null  int64  \n",
      " 1   imdb_id               10856 non-null  object \n",
      " 2   popularity            10866 non-null  float64\n",
      " 3   budget                10866 non-null  int64  \n",
      " 4   revenue               10866 non-null  int64  \n",
      " 5   original_title        10866 non-null  object \n",
      " 6   cast                  10790 non-null  object \n",
      " 7   homepage              2936 non-null   object \n",
      " 8   director              10822 non-null  object \n",
      " 9   tagline               8042 non-null   object \n",
      " 10  keywords              9373 non-null   object \n",
      " 11  overview              10862 non-null  object \n",
      " 12  runtime               10866 non-null  int64  \n",
      " 13  genres                10843 non-null  object \n",
      " 14  production_companies  9836 non-null   object \n",
      " 15  release_date          10866 non-null  object \n",
      " 16  vote_count            10866 non-null  int64  \n",
      " 17  vote_average          10866 non-null  float64\n",
      " 18  release_year          10866 non-null  int64  \n",
      " 19  budget_adj            10866 non-null  float64\n",
      " 20  revenue_adj           10866 non-null  float64\n",
      "dtypes: float64(4), int64(6), object(11)\n",
      "memory usage: 1.7+ MB\n"
     ]
    }
   ],
   "source": [
    "#checking for the general information of the dataset\n",
    "\n",
    "imdb_data.info()"
   ]
  },
  {
   "cell_type": "markdown",
   "metadata": {},
   "source": [
    "From the above we can deduce that the dataset has:\n",
    "\n",
    "21 columns, \n",
    "10866 rows, \n",
    "11 string variables, \n",
    "6 integer variables & 4 float variables"
   ]
  },
  {
   "cell_type": "code",
   "execution_count": 59,
   "metadata": {},
   "outputs": [
    {
     "data": {
      "text/plain": [
       "(id                         0\n",
       " imdb_id                   10\n",
       " popularity                 0\n",
       " budget                     0\n",
       " revenue                    0\n",
       " original_title             0\n",
       " cast                      76\n",
       " homepage                7930\n",
       " director                  44\n",
       " tagline                 2824\n",
       " keywords                1493\n",
       " overview                   4\n",
       " runtime                    0\n",
       " genres                    23\n",
       " production_companies    1030\n",
       " release_date               0\n",
       " vote_count                 0\n",
       " vote_average               0\n",
       " release_year               0\n",
       " budget_adj                 0\n",
       " revenue_adj                0\n",
       " dtype: int64,\n",
       " 'Duplicated rows:1')"
      ]
     },
     "execution_count": 59,
     "metadata": {},
     "output_type": "execute_result"
    }
   ],
   "source": [
    "#Checking for missing and duplicate values\n",
    "\n",
    "imdb_data.isna().sum(), f\"Duplicated rows:{imdb_data.duplicated().sum()}\""
   ]
  },
  {
   "cell_type": "markdown",
   "metadata": {},
   "source": [
    "From the above result we have a combination of missing and duplicated values.\n",
    "\n",
    "The missing values are as follows:\n",
    "\n",
    "imdb_id = 10, \n",
    "cast = 76, \n",
    "homepage = 7930, \n",
    "director = 44, \n",
    "tagline = 2824, \n",
    "keywords = 1493, \n",
    "overview = 4, \n",
    "genres = 23\n",
    "& production_companies = 1030\n",
    "\n",
    "Duplicated rows = 1"
   ]
  },
  {
   "cell_type": "code",
   "execution_count": 60,
   "metadata": {},
   "outputs": [
    {
     "data": {
      "text/plain": [
       "Index(['popularity', 'budget', 'revenue', 'original_title', 'cast', 'director',\n",
       "       'runtime', 'genres', 'production_companies', 'release_date',\n",
       "       'vote_count', 'vote_average', 'release_year'],\n",
       "      dtype='object')"
      ]
     },
     "execution_count": 60,
     "metadata": {},
     "output_type": "execute_result"
    }
   ],
   "source": [
    "#Dropping columns not needed for this analysis\n",
    "\n",
    "imdb_data.drop(columns=['id','imdb_id','homepage', 'tagline', 'keywords', 'overview', 'budget_adj', 'revenue_adj'], inplace=True)\n",
    "imdb_data.columns"
   ]
  },
  {
   "cell_type": "code",
   "execution_count": 62,
   "metadata": {},
   "outputs": [
    {
     "data": {
      "image/png": "[encoded data removed]",
      "text/plain": [
       "<Figure size 432x288 with 2 Axes>"
      ]
     },
     "metadata": {
      "needs_background": "light"
     },
     "output_type": "display_data"
    }
   ],
   "source": [
    "#the heatmap below shows the missing values in the remaining columns\n",
    "\n",
    "sns.heatmap(imdb_data.isnull());"
   ]
  },
  {
   "cell_type": "markdown",
   "metadata": {},
   "source": [
    "The highlighted areas represents the missing values in the dataset\n",
    "\n",
    "In relation to the dropped columns, in particular keywords; keywords has the highest number of missing values as such dropping the null values will result in the loss of a large amount of data. The rest of the columns were not needed for this analysis.  \n",
    "\n",
    "### Data Cleaning\n",
    "\n",
    "in this section, we shall drop the missing and duplicate values for the remaining columns. We shall also check for zero values and rectify where possible so as to ensure that data is not lost during the cleaning process."
   ]
  },
  {
   "cell_type": "code",
   "execution_count": 63,
   "metadata": {},
   "outputs": [
    {
     "data": {
      "text/plain": [
       "(9773, 13)"
      ]
     },
     "execution_count": 63,
     "metadata": {},
     "output_type": "execute_result"
    }
   ],
   "source": [
    "# Dropping Missing Values\n",
    "\n",
    "imdb_data.dropna(axis=0, inplace=True)\n",
    "imdb_data.shape"
   ]
  },
  {
   "cell_type": "markdown",
   "metadata": {},
   "source": [
    "The number of row and columns before dropping the irrelevant columns and missing values were (10866, 21)\n",
    "\n",
    "After dropping the columns and rows, 9773 rows and 14 columns remained."
   ]
  },
  {
   "cell_type": "code",
   "execution_count": 64,
   "metadata": {},
   "outputs": [
    {
     "data": {
      "text/html": [
       "<div>\n",
       "<style scoped>\n",
       "    .dataframe tbody tr th:only-of-type {\n",
       "        vertical-align: middle;\n",
       "    }\n",
       "\n",
       "    .dataframe tbody tr th {\n",
       "        vertical-align: top;\n",
       "    }\n",
       "\n",
       "    .dataframe thead th {\n",
       "        text-align: right;\n",
       "    }\n",
       "</style>\n",
       "<table border=\"1\" class=\"dataframe\">\n",
       "  <thead>\n",
       "    <tr style=\"text-align: right;\">\n",
       "      <th></th>\n",
       "      <th>popularity</th>\n",
       "      <th>budget</th>\n",
       "      <th>revenue</th>\n",
       "      <th>runtime</th>\n",
       "      <th>vote_count</th>\n",
       "      <th>vote_average</th>\n",
       "      <th>release_year</th>\n",
       "    </tr>\n",
       "  </thead>\n",
       "  <tbody>\n",
       "    <tr>\n",
       "      <th>count</th>\n",
       "      <td>9773.000000</td>\n",
       "      <td>9.773000e+03</td>\n",
       "      <td>9.773000e+03</td>\n",
       "      <td>9773.000000</td>\n",
       "      <td>9773.000000</td>\n",
       "      <td>9773.000000</td>\n",
       "      <td>9773.000000</td>\n",
       "    </tr>\n",
       "    <tr>\n",
       "      <th>mean</th>\n",
       "      <td>0.694711</td>\n",
       "      <td>1.618108e+07</td>\n",
       "      <td>4.422678e+07</td>\n",
       "      <td>102.925509</td>\n",
       "      <td>239.298782</td>\n",
       "      <td>5.963430</td>\n",
       "      <td>2000.879362</td>\n",
       "    </tr>\n",
       "    <tr>\n",
       "      <th>std</th>\n",
       "      <td>1.036879</td>\n",
       "      <td>3.220939e+07</td>\n",
       "      <td>1.225834e+08</td>\n",
       "      <td>27.876224</td>\n",
       "      <td>602.982068</td>\n",
       "      <td>0.913179</td>\n",
       "      <td>13.036453</td>\n",
       "    </tr>\n",
       "    <tr>\n",
       "      <th>min</th>\n",
       "      <td>0.000188</td>\n",
       "      <td>0.000000e+00</td>\n",
       "      <td>0.000000e+00</td>\n",
       "      <td>0.000000</td>\n",
       "      <td>10.000000</td>\n",
       "      <td>1.500000</td>\n",
       "      <td>1960.000000</td>\n",
       "    </tr>\n",
       "    <tr>\n",
       "      <th>25%</th>\n",
       "      <td>0.232756</td>\n",
       "      <td>0.000000e+00</td>\n",
       "      <td>0.000000e+00</td>\n",
       "      <td>90.000000</td>\n",
       "      <td>18.000000</td>\n",
       "      <td>5.400000</td>\n",
       "      <td>1994.000000</td>\n",
       "    </tr>\n",
       "    <tr>\n",
       "      <th>50%</th>\n",
       "      <td>0.419765</td>\n",
       "      <td>2.000000e+05</td>\n",
       "      <td>0.000000e+00</td>\n",
       "      <td>100.000000</td>\n",
       "      <td>46.000000</td>\n",
       "      <td>6.000000</td>\n",
       "      <td>2005.000000</td>\n",
       "    </tr>\n",
       "    <tr>\n",
       "      <th>75%</th>\n",
       "      <td>0.776380</td>\n",
       "      <td>1.940000e+07</td>\n",
       "      <td>3.104204e+07</td>\n",
       "      <td>112.000000</td>\n",
       "      <td>173.000000</td>\n",
       "      <td>6.600000</td>\n",
       "      <td>2011.000000</td>\n",
       "    </tr>\n",
       "    <tr>\n",
       "      <th>max</th>\n",
       "      <td>32.985763</td>\n",
       "      <td>4.250000e+08</td>\n",
       "      <td>2.781506e+09</td>\n",
       "      <td>877.000000</td>\n",
       "      <td>9767.000000</td>\n",
       "      <td>8.700000</td>\n",
       "      <td>2015.000000</td>\n",
       "    </tr>\n",
       "  </tbody>\n",
       "</table>\n",
       "</div>"
      ],
      "text/plain": [
       "        popularity        budget       revenue      runtime   vote_count  \\\n",
       "count  9773.000000  9.773000e+03  9.773000e+03  9773.000000  9773.000000   \n",
       "mean      0.694711  1.618108e+07  4.422678e+07   102.925509   239.298782   \n",
       "std       1.036879  3.220939e+07  1.225834e+08    27.876224   602.982068   \n",
       "min       0.000188  0.000000e+00  0.000000e+00     0.000000    10.000000   \n",
       "25%       0.232756  0.000000e+00  0.000000e+00    90.000000    18.000000   \n",
       "50%       0.419765  2.000000e+05  0.000000e+00   100.000000    46.000000   \n",
       "75%       0.776380  1.940000e+07  3.104204e+07   112.000000   173.000000   \n",
       "max      32.985763  4.250000e+08  2.781506e+09   877.000000  9767.000000   \n",
       "\n",
       "       vote_average  release_year  \n",
       "count   9773.000000   9773.000000  \n",
       "mean       5.963430   2000.879362  \n",
       "std        0.913179     13.036453  \n",
       "min        1.500000   1960.000000  \n",
       "25%        5.400000   1994.000000  \n",
       "50%        6.000000   2005.000000  \n",
       "75%        6.600000   2011.000000  \n",
       "max        8.700000   2015.000000  "
      ]
     },
     "execution_count": 64,
     "metadata": {},
     "output_type": "execute_result"
    }
   ],
   "source": [
    "# Checking for zero values\n",
    "imdb_data.describe()"
   ]
  },
  {
   "cell_type": "markdown",
   "metadata": {},
   "source": [
    "From the results, the minimum values for the budget, reveune and runtime is 0, which is not supposed to be the case. Every movie has a runtime and budget. The revenue can be lower than the budget as a result of poor performance of a movie it cannot however be zero. \n",
    "\n",
    "Depending on the number of rows with zero values, we can either replace them with mean values to prevent a loss of massive data or drop them all together."
   ]
  },
  {
   "cell_type": "code",
   "execution_count": 65,
   "metadata": {},
   "outputs": [
    {
     "name": "stdout",
     "output_type": "stream",
     "text": [
      "Count of zeros in column  popularity  is :  0\n",
      "Count of zeros in column  budget  is :  4751\n",
      "Count of zeros in column  revenue  is :  5022\n",
      "Count of zeros in column  original_title  is :  0\n",
      "Count of zeros in column  cast  is :  0\n",
      "Count of zeros in column  director  is :  0\n",
      "Count of zeros in column  runtime  is :  13\n",
      "Count of zeros in column  genres  is :  0\n",
      "Count of zeros in column  production_companies  is :  0\n",
      "Count of zeros in column  release_date  is :  0\n",
      "Count of zeros in column  vote_count  is :  0\n",
      "Count of zeros in column  vote_average  is :  0\n",
      "Count of zeros in column  release_year  is :  0\n"
     ]
    }
   ],
   "source": [
    "#Checking for zero values\n",
    "\n",
    "for column_name in imdb_data.columns:\n",
    "    column = imdb_data[column_name]\n",
    "    \n",
    "    count = (column == 0).sum()\n",
    "    print('Count of zeros in column ', column_name, ' is : ', count)\n"
   ]
  },
  {
   "cell_type": "markdown",
   "metadata": {},
   "source": [
    "As per the results:\n",
    "\n",
    "1. Budget has 4751 zero values\n",
    "2. Revenue has 5022 zero values\n",
    "3. Runtime has 13 zero values\n",
    "\n",
    "The number of zero values is significantly large. Dropping them all together will result in a massive loss of data. Therefore the zero values shall be replaced with yearly mean values. The remaining zero values will then be dropped.  "
   ]
  },
  {
   "cell_type": "code",
   "execution_count": 67,
   "metadata": {},
   "outputs": [
    {
     "data": {
      "text/plain": [
       "(3806, 13)"
      ]
     },
     "execution_count": 67,
     "metadata": {},
     "output_type": "execute_result"
    }
   ],
   "source": [
    "# Checking for rows without zeros\n",
    "#code reference: https://www.kaggle.com/code/betizazualemu/tmdb-movies-analysis-ipynb\n",
    "\n",
    "without_zeros = imdb_data[(imdb_data.budget != 0) & (imdb_data.revenue != 0) & (imdb_data.runtime != 0)]\n",
    "without_zeros.shape"
   ]
  },
  {
   "cell_type": "code",
   "execution_count": 68,
   "metadata": {},
   "outputs": [
    {
     "data": {
      "image/png": "[encoded data removed]",
      "text/plain": [
       "<Figure size 864x432 with 2 Axes>"
      ]
     },
     "metadata": {
      "needs_background": "light"
     },
     "output_type": "display_data"
    }
   ],
   "source": [
    "# Visuals showing rows with and without zeros\n",
    "#code refrence: https://www.kaggle.com/code/betizazualemu/tmdb-movies-analysis-ipynb\n",
    "\n",
    "fig, ax = plt.subplots(nrows=1, ncols=2, figsize=(12, 6))\n",
    "\n",
    "ax[0].boxplot(imdb_data[['budget', 'revenue','runtime']])\n",
    "ax[1].boxplot(without_zeros[['budget', 'revenue', 'runtime']])\n",
    "plt.suptitle('Box Plot for IMDb_Data With Zeros and Without Zeros', fontsize=16);\n"
   ]
  },
  {
   "cell_type": "markdown",
   "metadata": {},
   "source": [
    "Out of 9773 rows, 3806 rows do not contain zeros. The difference is quite large. Thus we shall replace the rows with zero values with yearly means. "
   ]
  },
  {
   "cell_type": "code",
   "execution_count": 70,
   "metadata": {},
   "outputs": [],
   "source": [
    "# Function to replace zeros with the yearly mean\n",
    "#code reference: https://www.kaggle.com/code/betizazualemu/tmdb-movies-analysis-ipynb\n",
    "\n",
    "def replace(row: pd.DataFrame, columns: list, data_frame: pd.DataFrame):\n",
    "    \n",
    "    if (row[columns] == 0).all():\n",
    "        row[columns] = data_frame.loc[row.release_year, columns]\n",
    "        \n",
    "        return row"
   ]
  },
  {
   "cell_type": "markdown",
   "metadata": {},
   "source": [
    "Now that the function to replace zeros has been defined, we can now calculate the the yearly mean."
   ]
  },
  {
   "cell_type": "code",
   "execution_count": 71,
   "metadata": {},
   "outputs": [
    {
     "data": {
      "text/html": [
       "<div>\n",
       "<style scoped>\n",
       "    .dataframe tbody tr th:only-of-type {\n",
       "        vertical-align: middle;\n",
       "    }\n",
       "\n",
       "    .dataframe tbody tr th {\n",
       "        vertical-align: top;\n",
       "    }\n",
       "\n",
       "    .dataframe thead th {\n",
       "        text-align: right;\n",
       "    }\n",
       "</style>\n",
       "<table border=\"1\" class=\"dataframe\">\n",
       "  <thead>\n",
       "    <tr style=\"text-align: right;\">\n",
       "      <th></th>\n",
       "      <th>budget</th>\n",
       "      <th>revenue</th>\n",
       "      <th>runtime</th>\n",
       "    </tr>\n",
       "    <tr>\n",
       "      <th>release_year</th>\n",
       "      <th></th>\n",
       "      <th></th>\n",
       "      <th></th>\n",
       "    </tr>\n",
       "  </thead>\n",
       "  <tbody>\n",
       "    <tr>\n",
       "      <th>1960</th>\n",
       "      <td>6.892796e+05</td>\n",
       "      <td>4.531406e+06</td>\n",
       "      <td>110.656250</td>\n",
       "    </tr>\n",
       "    <tr>\n",
       "      <th>1961</th>\n",
       "      <td>1.537900e+06</td>\n",
       "      <td>1.125734e+07</td>\n",
       "      <td>119.866667</td>\n",
       "    </tr>\n",
       "    <tr>\n",
       "      <th>1962</th>\n",
       "      <td>1.824071e+06</td>\n",
       "      <td>7.185995e+06</td>\n",
       "      <td>125.833333</td>\n",
       "    </tr>\n",
       "    <tr>\n",
       "      <th>1963</th>\n",
       "      <td>2.156809e+06</td>\n",
       "      <td>5.511911e+06</td>\n",
       "      <td>111.323529</td>\n",
       "    </tr>\n",
       "    <tr>\n",
       "      <th>1964</th>\n",
       "      <td>9.630039e+05</td>\n",
       "      <td>8.316629e+06</td>\n",
       "      <td>111.195122</td>\n",
       "    </tr>\n",
       "    <tr>\n",
       "      <th>1965</th>\n",
       "      <td>2.064856e+06</td>\n",
       "      <td>1.347300e+07</td>\n",
       "      <td>119.294118</td>\n",
       "    </tr>\n",
       "    <tr>\n",
       "      <th>1966</th>\n",
       "      <td>1.308064e+06</td>\n",
       "      <td>1.925834e+06</td>\n",
       "      <td>108.590909</td>\n",
       "    </tr>\n",
       "    <tr>\n",
       "      <th>1967</th>\n",
       "      <td>2.795889e+06</td>\n",
       "      <td>2.049541e+07</td>\n",
       "      <td>109.416667</td>\n",
       "    </tr>\n",
       "    <tr>\n",
       "      <th>1968</th>\n",
       "      <td>1.944297e+06</td>\n",
       "      <td>7.154945e+06</td>\n",
       "      <td>110.540541</td>\n",
       "    </tr>\n",
       "    <tr>\n",
       "      <th>1969</th>\n",
       "      <td>1.452727e+06</td>\n",
       "      <td>8.412313e+06</td>\n",
       "      <td>110.310345</td>\n",
       "    </tr>\n",
       "  </tbody>\n",
       "</table>\n",
       "</div>"
      ],
      "text/plain": [
       "                    budget       revenue     runtime\n",
       "release_year                                        \n",
       "1960          6.892796e+05  4.531406e+06  110.656250\n",
       "1961          1.537900e+06  1.125734e+07  119.866667\n",
       "1962          1.824071e+06  7.185995e+06  125.833333\n",
       "1963          2.156809e+06  5.511911e+06  111.323529\n",
       "1964          9.630039e+05  8.316629e+06  111.195122\n",
       "1965          2.064856e+06  1.347300e+07  119.294118\n",
       "1966          1.308064e+06  1.925834e+06  108.590909\n",
       "1967          2.795889e+06  2.049541e+07  109.416667\n",
       "1968          1.944297e+06  7.154945e+06  110.540541\n",
       "1969          1.452727e+06  8.412313e+06  110.310345"
      ]
     },
     "execution_count": 71,
     "metadata": {},
     "output_type": "execute_result"
    }
   ],
   "source": [
    "#Calculating the yearly mean\n",
    "\n",
    "yearly_mean = imdb_data.groupby('release_year')[['budget','revenue','runtime']].mean()\n",
    "\n",
    "yearly_mean.head(10)"
   ]
  },
  {
   "cell_type": "markdown",
   "metadata": {},
   "source": [
    "Now that the yearly mean has been calculated, the results can be used to now replace the zero values with the yearly mean as follows:"
   ]
  },
  {
   "cell_type": "code",
   "execution_count": 73,
   "metadata": {},
   "outputs": [
    {
     "name": "stdout",
     "output_type": "stream",
     "text": [
      "(0, 13)\n"
     ]
    }
   ],
   "source": [
    "# Replacing Corresponding Zero Values ['Budget' and 'Revenue']\n",
    "#code reference: https://www.kaggle.com/code/betizazualemu/tmdb-movies-analysis-ipynb\n",
    "\n",
    "missing_values = imdb_data[(imdb_data.budget ==0) & (imdb_data.revenue ==0)]\n",
    "\n",
    "missing_values = missing_values.apply(lambda x: replace(x, ['budget','revenue'], yearly_mean), axis=1)\n",
    "imdb_data[imdb_data.index.isin(missing_values.index)] = missing_values\n",
    "\n",
    "print(imdb_data[(imdb_data.budget==0) & (imdb_data.revenue == 0)].shape)"
   ]
  },
  {
   "cell_type": "markdown",
   "metadata": {},
   "source": [
    "The corresponding zero values in budget and revenue have been replaced as shown by the 0 rows, 14 columns rows."
   ]
  },
  {
   "cell_type": "code",
   "execution_count": 74,
   "metadata": {},
   "outputs": [
    {
     "name": "stdout",
     "output_type": "stream",
     "text": [
      "(0, 13)\n",
      "(0, 13)\n"
     ]
    }
   ],
   "source": [
    "# Replacing Zero Values in 'Runtime' and 'Revenue'\n",
    "# code reference: https://www.kaggle.com/code/betizazualemu/tmdb-movies-analysis-ipynb\n",
    "\n",
    "missing_value_rt = imdb_data[imdb_data.runtime == 0]\n",
    "missing_value_bd = imdb_data[imdb_data.budget == 0]\n",
    "\n",
    "missing_value_rt = missing_value_rt.apply(lambda x: replace(x, ['runtime'], yearly_mean), axis=1)\n",
    "missing_value_bd = missing_value_bd.apply(lambda x: replace(x, ['budget'], yearly_mean), axis=1)\n",
    "\n",
    "imdb_data[imdb_data.index.isin(missing_value_rt.index)] = missing_value_rt\n",
    "imdb_data[imdb_data.index.isin(missing_value_bd.index)] = missing_value_bd\n",
    "\n",
    "print(imdb_data[imdb_data.runtime == 0].shape)\n",
    "print(imdb_data[imdb_data.budget == 0].shape)"
   ]
  },
  {
   "cell_type": "markdown",
   "metadata": {},
   "source": [
    "The zero values in runtime and budget have been replaced as shown by the 0 rows, 14 columns rows. Revenue had the highest number of zero values (5022 rows), The remaining rows with zero values can now be dropped."
   ]
  },
  {
   "cell_type": "code",
   "execution_count": 75,
   "metadata": {},
   "outputs": [
    {
     "name": "stdout",
     "output_type": "stream",
     "text": [
      "(9773, 13)\n",
      "(8557, 13)\n"
     ]
    }
   ],
   "source": [
    "#Checking the number of rows before and after dropping the zero values\n",
    "\n",
    "print(imdb_data.shape)\n",
    "\n",
    "imdb_data.drop(imdb_data[imdb_data.revenue == 0].index, inplace=True)\n",
    "\n",
    "print(imdb_data.shape)\n"
   ]
  },
  {
   "cell_type": "code",
   "execution_count": 76,
   "metadata": {},
   "outputs": [
    {
     "name": "stdout",
     "output_type": "stream",
     "text": [
      "Count of zeros in column  popularity  is :  0\n",
      "Count of zeros in column  budget  is :  0\n",
      "Count of zeros in column  revenue  is :  0\n",
      "Count of zeros in column  original_title  is :  0\n",
      "Count of zeros in column  cast  is :  0\n",
      "Count of zeros in column  director  is :  0\n",
      "Count of zeros in column  runtime  is :  0\n",
      "Count of zeros in column  genres  is :  0\n",
      "Count of zeros in column  production_companies  is :  0\n",
      "Count of zeros in column  release_date  is :  0\n",
      "Count of zeros in column  vote_count  is :  0\n",
      "Count of zeros in column  vote_average  is :  0\n",
      "Count of zeros in column  release_year  is :  0\n"
     ]
    }
   ],
   "source": [
    "# Checking for zero values\n",
    "\n",
    "for column_name in imdb_data.columns:\n",
    "    column = imdb_data[column_name]\n",
    "    \n",
    "    count = (column == 0).sum()\n",
    "    print('Count of zeros in column ', column_name, ' is : ', count)"
   ]
  },
  {
   "cell_type": "markdown",
   "metadata": {},
   "source": [
    "Zero values have now been replaced and those that could not be replaced, have been dropped. "
   ]
  },
  {
   "cell_type": "markdown",
   "metadata": {},
   "source": [
    "<a id='eda'></a>\n",
    "## Exploratory Data Analysis\n",
    "\n",
    "\n",
    "\n",
    "### Question 1: What is the highest grossing movie?"
   ]
  },
  {
   "cell_type": "code",
   "execution_count": 77,
   "metadata": {},
   "outputs": [
    {
     "data": {
      "text/html": [
       "<div>\n",
       "<style scoped>\n",
       "    .dataframe tbody tr th:only-of-type {\n",
       "        vertical-align: middle;\n",
       "    }\n",
       "\n",
       "    .dataframe tbody tr th {\n",
       "        vertical-align: top;\n",
       "    }\n",
       "\n",
       "    .dataframe thead th {\n",
       "        text-align: right;\n",
       "    }\n",
       "</style>\n",
       "<table border=\"1\" class=\"dataframe\">\n",
       "  <thead>\n",
       "    <tr style=\"text-align: right;\">\n",
       "      <th></th>\n",
       "      <th>popularity</th>\n",
       "      <th>budget</th>\n",
       "      <th>revenue</th>\n",
       "      <th>runtime</th>\n",
       "      <th>vote_count</th>\n",
       "      <th>vote_average</th>\n",
       "      <th>release_year</th>\n",
       "    </tr>\n",
       "  </thead>\n",
       "  <tbody>\n",
       "    <tr>\n",
       "      <th>count</th>\n",
       "      <td>8557.000000</td>\n",
       "      <td>8.557000e+03</td>\n",
       "      <td>8.557000e+03</td>\n",
       "      <td>8557.000000</td>\n",
       "      <td>8557.000000</td>\n",
       "      <td>8557.000000</td>\n",
       "      <td>8557.000000</td>\n",
       "    </tr>\n",
       "    <tr>\n",
       "      <th>mean</th>\n",
       "      <td>0.733371</td>\n",
       "      <td>2.508455e+07</td>\n",
       "      <td>6.950207e+07</td>\n",
       "      <td>103.222985</td>\n",
       "      <td>264.403646</td>\n",
       "      <td>6.008438</td>\n",
       "      <td>2000.884890</td>\n",
       "    </tr>\n",
       "    <tr>\n",
       "      <th>std</th>\n",
       "      <td>1.095223</td>\n",
       "      <td>3.082565e+07</td>\n",
       "      <td>1.243250e+08</td>\n",
       "      <td>27.561171</td>\n",
       "      <td>639.264557</td>\n",
       "      <td>0.896017</td>\n",
       "      <td>12.994432</td>\n",
       "    </tr>\n",
       "    <tr>\n",
       "      <th>min</th>\n",
       "      <td>0.000188</td>\n",
       "      <td>1.000000e+00</td>\n",
       "      <td>2.000000e+00</td>\n",
       "      <td>3.000000</td>\n",
       "      <td>10.000000</td>\n",
       "      <td>1.500000</td>\n",
       "      <td>1960.000000</td>\n",
       "    </tr>\n",
       "    <tr>\n",
       "      <th>25%</th>\n",
       "      <td>0.237126</td>\n",
       "      <td>1.033505e+07</td>\n",
       "      <td>1.915248e+07</td>\n",
       "      <td>91.000000</td>\n",
       "      <td>19.000000</td>\n",
       "      <td>5.500000</td>\n",
       "      <td>1994.000000</td>\n",
       "    </tr>\n",
       "    <tr>\n",
       "      <th>50%</th>\n",
       "      <td>0.435582</td>\n",
       "      <td>1.700000e+07</td>\n",
       "      <td>4.356401e+07</td>\n",
       "      <td>100.000000</td>\n",
       "      <td>50.000000</td>\n",
       "      <td>6.100000</td>\n",
       "      <td>2005.000000</td>\n",
       "    </tr>\n",
       "    <tr>\n",
       "      <th>75%</th>\n",
       "      <td>0.833524</td>\n",
       "      <td>2.500000e+07</td>\n",
       "      <td>5.666667e+07</td>\n",
       "      <td>113.000000</td>\n",
       "      <td>198.000000</td>\n",
       "      <td>6.600000</td>\n",
       "      <td>2011.000000</td>\n",
       "    </tr>\n",
       "    <tr>\n",
       "      <th>max</th>\n",
       "      <td>32.985763</td>\n",
       "      <td>4.250000e+08</td>\n",
       "      <td>2.781506e+09</td>\n",
       "      <td>877.000000</td>\n",
       "      <td>9767.000000</td>\n",
       "      <td>8.700000</td>\n",
       "      <td>2015.000000</td>\n",
       "    </tr>\n",
       "  </tbody>\n",
       "</table>\n",
       "</div>"
      ],
      "text/plain": [
       "        popularity        budget       revenue      runtime   vote_count  \\\n",
       "count  8557.000000  8.557000e+03  8.557000e+03  8557.000000  8557.000000   \n",
       "mean      0.733371  2.508455e+07  6.950207e+07   103.222985   264.403646   \n",
       "std       1.095223  3.082565e+07  1.243250e+08    27.561171   639.264557   \n",
       "min       0.000188  1.000000e+00  2.000000e+00     3.000000    10.000000   \n",
       "25%       0.237126  1.033505e+07  1.915248e+07    91.000000    19.000000   \n",
       "50%       0.435582  1.700000e+07  4.356401e+07   100.000000    50.000000   \n",
       "75%       0.833524  2.500000e+07  5.666667e+07   113.000000   198.000000   \n",
       "max      32.985763  4.250000e+08  2.781506e+09   877.000000  9767.000000   \n",
       "\n",
       "       vote_average  release_year  \n",
       "count   8557.000000   8557.000000  \n",
       "mean       6.008438   2000.884890  \n",
       "std        0.896017     12.994432  \n",
       "min        1.500000   1960.000000  \n",
       "25%        5.500000   1994.000000  \n",
       "50%        6.100000   2005.000000  \n",
       "75%        6.600000   2011.000000  \n",
       "max        8.700000   2015.000000  "
      ]
     },
     "execution_count": 77,
     "metadata": {},
     "output_type": "execute_result"
    }
   ],
   "source": [
    "# Checking general statistics\n",
    "\n",
    "imdb_data.describe()"
   ]
  },
  {
   "cell_type": "markdown",
   "metadata": {},
   "source": [
    "The descriptive statistics above show that this data spans from 1960 to 2015.\n",
    "\n",
    "The vote average mean is 6.008438, with the maximum and minimum been 8.700000 and 1.500000 respectively.\n",
    "\n",
    "The runtime minimum in minutes ia 3 minutes and the maximum is 877 minutes. It has a mean of 103.222985.\n",
    "\n",
    "The maximum popularity score is 32.985763\n",
    "\n",
    "the maximum budget and revenue is 4.250000e+08 and 2.781506e+09 respectively."
   ]
  },
  {
   "cell_type": "code",
   "execution_count": 78,
   "metadata": {},
   "outputs": [],
   "source": [
    "# Calculating and inserting the profit of the imdb_data\n",
    "\n",
    "imdb_data.insert(4, column='profit', value=imdb_data['revenue']-imdb_data['budget'])"
   ]
  },
  {
   "cell_type": "code",
   "execution_count": 79,
   "metadata": {},
   "outputs": [
    {
     "data": {
      "text/html": [
       "<div>\n",
       "<style scoped>\n",
       "    .dataframe tbody tr th:only-of-type {\n",
       "        vertical-align: middle;\n",
       "    }\n",
       "\n",
       "    .dataframe tbody tr th {\n",
       "        vertical-align: top;\n",
       "    }\n",
       "\n",
       "    .dataframe thead th {\n",
       "        text-align: right;\n",
       "    }\n",
       "</style>\n",
       "<table border=\"1\" class=\"dataframe\">\n",
       "  <thead>\n",
       "    <tr style=\"text-align: right;\">\n",
       "      <th></th>\n",
       "      <th>release_year</th>\n",
       "      <th>profit</th>\n",
       "      <th>popularity</th>\n",
       "      <th>vote_average</th>\n",
       "    </tr>\n",
       "    <tr>\n",
       "      <th>original_title</th>\n",
       "      <th></th>\n",
       "      <th></th>\n",
       "      <th></th>\n",
       "      <th></th>\n",
       "    </tr>\n",
       "  </thead>\n",
       "  <tbody>\n",
       "    <tr>\n",
       "      <th>Avatar</th>\n",
       "      <td>2009</td>\n",
       "      <td>2.544506e+09</td>\n",
       "      <td>9.432768</td>\n",
       "      <td>7.1</td>\n",
       "    </tr>\n",
       "    <tr>\n",
       "      <th>Star Wars: The Force Awakens</th>\n",
       "      <td>2015</td>\n",
       "      <td>1.868178e+09</td>\n",
       "      <td>11.173104</td>\n",
       "      <td>7.5</td>\n",
       "    </tr>\n",
       "    <tr>\n",
       "      <th>Titanic</th>\n",
       "      <td>1997</td>\n",
       "      <td>1.645034e+09</td>\n",
       "      <td>4.355219</td>\n",
       "      <td>7.3</td>\n",
       "    </tr>\n",
       "    <tr>\n",
       "      <th>Jurassic World</th>\n",
       "      <td>2015</td>\n",
       "      <td>1.363529e+09</td>\n",
       "      <td>32.985763</td>\n",
       "      <td>6.5</td>\n",
       "    </tr>\n",
       "    <tr>\n",
       "      <th>Furious 7</th>\n",
       "      <td>2015</td>\n",
       "      <td>1.316249e+09</td>\n",
       "      <td>9.335014</td>\n",
       "      <td>7.3</td>\n",
       "    </tr>\n",
       "    <tr>\n",
       "      <th>The Avengers</th>\n",
       "      <td>2012</td>\n",
       "      <td>1.299558e+09</td>\n",
       "      <td>7.637767</td>\n",
       "      <td>7.3</td>\n",
       "    </tr>\n",
       "    <tr>\n",
       "      <th>Harry Potter and the Deathly Hallows: Part 2</th>\n",
       "      <td>2011</td>\n",
       "      <td>1.202818e+09</td>\n",
       "      <td>5.711315</td>\n",
       "      <td>7.7</td>\n",
       "    </tr>\n",
       "    <tr>\n",
       "      <th>Avengers: Age of Ultron</th>\n",
       "      <td>2015</td>\n",
       "      <td>1.125036e+09</td>\n",
       "      <td>5.944927</td>\n",
       "      <td>7.4</td>\n",
       "    </tr>\n",
       "    <tr>\n",
       "      <th>Frozen</th>\n",
       "      <td>2013</td>\n",
       "      <td>1.124219e+09</td>\n",
       "      <td>6.112766</td>\n",
       "      <td>7.5</td>\n",
       "    </tr>\n",
       "    <tr>\n",
       "      <th>The Net</th>\n",
       "      <td>1995</td>\n",
       "      <td>1.084280e+09</td>\n",
       "      <td>1.136610</td>\n",
       "      <td>5.6</td>\n",
       "    </tr>\n",
       "  </tbody>\n",
       "</table>\n",
       "</div>"
      ],
      "text/plain": [
       "                                              release_year        profit  \\\n",
       "original_title                                                             \n",
       "Avatar                                                2009  2.544506e+09   \n",
       "Star Wars: The Force Awakens                          2015  1.868178e+09   \n",
       "Titanic                                               1997  1.645034e+09   \n",
       "Jurassic World                                        2015  1.363529e+09   \n",
       "Furious 7                                             2015  1.316249e+09   \n",
       "The Avengers                                          2012  1.299558e+09   \n",
       "Harry Potter and the Deathly Hallows: Part 2          2011  1.202818e+09   \n",
       "Avengers: Age of Ultron                               2015  1.125036e+09   \n",
       "Frozen                                                2013  1.124219e+09   \n",
       "The Net                                               1995  1.084280e+09   \n",
       "\n",
       "                                              popularity  vote_average  \n",
       "original_title                                                          \n",
       "Avatar                                          9.432768           7.1  \n",
       "Star Wars: The Force Awakens                   11.173104           7.5  \n",
       "Titanic                                         4.355219           7.3  \n",
       "Jurassic World                                 32.985763           6.5  \n",
       "Furious 7                                       9.335014           7.3  \n",
       "The Avengers                                    7.637767           7.3  \n",
       "Harry Potter and the Deathly Hallows: Part 2    5.711315           7.7  \n",
       "Avengers: Age of Ultron                         5.944927           7.4  \n",
       "Frozen                                          6.112766           7.5  \n",
       "The Net                                         1.136610           5.6  "
      ]
     },
     "execution_count": 79,
     "metadata": {},
     "output_type": "execute_result"
    }
   ],
   "source": [
    "#Highest grossing movies\n",
    "\n",
    "top10_profit = imdb_data.nlargest(10,'profit')[['original_title', 'release_year', 'profit','popularity','vote_average']].set_index('original_title')\n",
    "top10_profit"
   ]
  },
  {
   "cell_type": "code",
   "execution_count": 80,
   "metadata": {},
   "outputs": [
    {
     "data": {
      "image/png": "[encoded data removed]",
      "text/plain": [
       "<Figure size 432x288 with 1 Axes>"
      ]
     },
     "metadata": {
      "needs_background": "light"
     },
     "output_type": "display_data"
    }
   ],
   "source": [
    "# Barplot showing the highest grossing movies\n",
    "\n",
    "sns.barplot(x='profit', y=top10_profit.index, data=top10_profit);"
   ]
  },
  {
   "cell_type": "markdown",
   "metadata": {},
   "source": [
    "\n",
    "The results show the highest grossing movies.\n",
    "\n",
    "\n",
    "### Question 1a): Are the highest grossing movies popular?\n",
    "\n"
   ]
  },
  {
   "cell_type": "code",
   "execution_count": 81,
   "metadata": {},
   "outputs": [
    {
     "data": {
      "image/png": "[encoded data removed]",
      "text/plain": [
       "<Figure size 432x288 with 1 Axes>"
      ]
     },
     "metadata": {
      "needs_background": "light"
     },
     "output_type": "display_data"
    }
   ],
   "source": [
    "# Barplot showing the popularity of the highest grossing movies\n",
    "\n",
    "sns.barplot(x='popularity', y=top10_profit.index, data=top10_profit);"
   ]
  },
  {
   "cell_type": "markdown",
   "metadata": {},
   "source": [
    "The results show that the highest grossing movies are not as popular.\n",
    "\n",
    "### Question 1b): What is the vote_average for the highest grossing movies?\n",
    "\n"
   ]
  },
  {
   "cell_type": "code",
   "execution_count": 82,
   "metadata": {},
   "outputs": [
    {
     "data": {
      "image/png": "[encoded data removed]",
      "text/plain": [
       "<Figure size 432x288 with 1 Axes>"
      ]
     },
     "metadata": {
      "needs_background": "light"
     },
     "output_type": "display_data"
    }
   ],
   "source": [
    "#Barplot showing the vote_average of the highest grossing movies\n",
    "\n",
    "sns.barplot(x='vote_average', y=top10_profit.index, data=top10_profit);"
   ]
  },
  {
   "cell_type": "markdown",
   "metadata": {},
   "source": [
    "The vote average for the highest grossing movies is between 5 and 8\n",
    "\n",
    "\n",
    "### Question 2: Are the most popular movies also the highest grossing movies?\n"
   ]
  },
  {
   "cell_type": "code",
   "execution_count": 83,
   "metadata": {},
   "outputs": [
    {
     "data": {
      "text/html": [
       "<div>\n",
       "<style scoped>\n",
       "    .dataframe tbody tr th:only-of-type {\n",
       "        vertical-align: middle;\n",
       "    }\n",
       "\n",
       "    .dataframe tbody tr th {\n",
       "        vertical-align: top;\n",
       "    }\n",
       "\n",
       "    .dataframe thead th {\n",
       "        text-align: right;\n",
       "    }\n",
       "</style>\n",
       "<table border=\"1\" class=\"dataframe\">\n",
       "  <thead>\n",
       "    <tr style=\"text-align: right;\">\n",
       "      <th></th>\n",
       "      <th>popularity</th>\n",
       "      <th>profit</th>\n",
       "      <th>vote_average</th>\n",
       "    </tr>\n",
       "    <tr>\n",
       "      <th>original_title</th>\n",
       "      <th></th>\n",
       "      <th></th>\n",
       "      <th></th>\n",
       "    </tr>\n",
       "  </thead>\n",
       "  <tbody>\n",
       "    <tr>\n",
       "      <th>Jurassic World</th>\n",
       "      <td>32.985763</td>\n",
       "      <td>1.363529e+09</td>\n",
       "      <td>6.5</td>\n",
       "    </tr>\n",
       "    <tr>\n",
       "      <th>Mad Max: Fury Road</th>\n",
       "      <td>28.419936</td>\n",
       "      <td>2.284364e+08</td>\n",
       "      <td>7.1</td>\n",
       "    </tr>\n",
       "    <tr>\n",
       "      <th>Interstellar</th>\n",
       "      <td>24.949134</td>\n",
       "      <td>4.567525e+08</td>\n",
       "      <td>8.0</td>\n",
       "    </tr>\n",
       "    <tr>\n",
       "      <th>Guardians of the Galaxy</th>\n",
       "      <td>14.311205</td>\n",
       "      <td>6.033124e+08</td>\n",
       "      <td>7.9</td>\n",
       "    </tr>\n",
       "    <tr>\n",
       "      <th>Insurgent</th>\n",
       "      <td>13.112507</td>\n",
       "      <td>1.852382e+08</td>\n",
       "      <td>6.3</td>\n",
       "    </tr>\n",
       "    <tr>\n",
       "      <th>Captain America: The Winter Soldier</th>\n",
       "      <td>12.971027</td>\n",
       "      <td>5.447666e+08</td>\n",
       "      <td>7.6</td>\n",
       "    </tr>\n",
       "    <tr>\n",
       "      <th>Star Wars</th>\n",
       "      <td>12.037933</td>\n",
       "      <td>7.643980e+08</td>\n",
       "      <td>7.9</td>\n",
       "    </tr>\n",
       "    <tr>\n",
       "      <th>John Wick</th>\n",
       "      <td>11.422751</td>\n",
       "      <td>5.873990e+07</td>\n",
       "      <td>7.0</td>\n",
       "    </tr>\n",
       "    <tr>\n",
       "      <th>Star Wars: The Force Awakens</th>\n",
       "      <td>11.173104</td>\n",
       "      <td>1.868178e+09</td>\n",
       "      <td>7.5</td>\n",
       "    </tr>\n",
       "    <tr>\n",
       "      <th>The Hunger Games: Mockingjay - Part 1</th>\n",
       "      <td>10.739009</td>\n",
       "      <td>6.271002e+08</td>\n",
       "      <td>6.6</td>\n",
       "    </tr>\n",
       "  </tbody>\n",
       "</table>\n",
       "</div>"
      ],
      "text/plain": [
       "                                       popularity        profit  vote_average\n",
       "original_title                                                               \n",
       "Jurassic World                          32.985763  1.363529e+09           6.5\n",
       "Mad Max: Fury Road                      28.419936  2.284364e+08           7.1\n",
       "Interstellar                            24.949134  4.567525e+08           8.0\n",
       "Guardians of the Galaxy                 14.311205  6.033124e+08           7.9\n",
       "Insurgent                               13.112507  1.852382e+08           6.3\n",
       "Captain America: The Winter Soldier     12.971027  5.447666e+08           7.6\n",
       "Star Wars                               12.037933  7.643980e+08           7.9\n",
       "John Wick                               11.422751  5.873990e+07           7.0\n",
       "Star Wars: The Force Awakens            11.173104  1.868178e+09           7.5\n",
       "The Hunger Games: Mockingjay - Part 1   10.739009  6.271002e+08           6.6"
      ]
     },
     "execution_count": 83,
     "metadata": {},
     "output_type": "execute_result"
    }
   ],
   "source": [
    "# Checking the most popular movies\n",
    "\n",
    "top10_popular = imdb_data.nlargest(10,'popularity')[['original_title', 'popularity', 'profit','vote_average']].set_index('original_title')\n",
    "top10_popular"
   ]
  },
  {
   "cell_type": "code",
   "execution_count": 84,
   "metadata": {},
   "outputs": [
    {
     "data": {
      "image/png": "[encoded data removed]",
      "text/plain": [
       "<Figure size 432x288 with 1 Axes>"
      ]
     },
     "metadata": {
      "needs_background": "light"
     },
     "output_type": "display_data"
    }
   ],
   "source": [
    "# Barplot showing the most popular movies\n",
    "\n",
    "sns.barplot(x='popularity', y=top10_popular.index, data=top10_popular);"
   ]
  },
  {
   "cell_type": "markdown",
   "metadata": {},
   "source": [
    "The most popular movies are not among the highest grossing movies except for Starwars: The Force Awakens and Jurassic World. Below is a barplot illustrating this."
   ]
  },
  {
   "cell_type": "code",
   "execution_count": 86,
   "metadata": {},
   "outputs": [
    {
     "data": {
      "image/png": "[encoded data removed]",
      "text/plain": [
       "<Figure size 432x288 with 1 Axes>"
      ]
     },
     "metadata": {
      "needs_background": "light"
     },
     "output_type": "display_data"
    }
   ],
   "source": [
    "# Barplot the profit of the most popular movies\n",
    "\n",
    "sns.barplot(x='profit', y=top10_popular.index, data=top10_popular);"
   ]
  },
  {
   "cell_type": "markdown",
   "metadata": {},
   "source": [
    "The results show that popularity does not translate into profits. \n",
    "\n",
    "### Question 3: Does the average vote reflect the popularity of a movie?\n"
   ]
  },
  {
   "cell_type": "code",
   "execution_count": 87,
   "metadata": {},
   "outputs": [
    {
     "data": {
      "image/png": "[encoded data removed]",
      "text/plain": [
       "<Figure size 432x288 with 1 Axes>"
      ]
     },
     "metadata": {
      "needs_background": "light"
     },
     "output_type": "display_data"
    }
   ],
   "source": [
    "#Barplot showing the average votes of the most popular movies\n",
    "\n",
    "sns.barplot(x='vote_average', y=top10_popular.index, data=top10_popular);"
   ]
  },
  {
   "cell_type": "markdown",
   "metadata": {},
   "source": [
    "The results show that the average votes divided by 10 are fairly high for the most popular movies\n",
    "\n",
    "### Question 4. Which movies have the longest runtime?\n"
   ]
  },
  {
   "cell_type": "code",
   "execution_count": 88,
   "metadata": {},
   "outputs": [
    {
     "data": {
      "text/html": [
       "<div>\n",
       "<style scoped>\n",
       "    .dataframe tbody tr th:only-of-type {\n",
       "        vertical-align: middle;\n",
       "    }\n",
       "\n",
       "    .dataframe tbody tr th {\n",
       "        vertical-align: top;\n",
       "    }\n",
       "\n",
       "    .dataframe thead th {\n",
       "        text-align: right;\n",
       "    }\n",
       "</style>\n",
       "<table border=\"1\" class=\"dataframe\">\n",
       "  <thead>\n",
       "    <tr style=\"text-align: right;\">\n",
       "      <th></th>\n",
       "      <th>release_year</th>\n",
       "      <th>runtime</th>\n",
       "      <th>profit</th>\n",
       "      <th>popularity</th>\n",
       "      <th>vote_average</th>\n",
       "    </tr>\n",
       "    <tr>\n",
       "      <th>original_title</th>\n",
       "      <th></th>\n",
       "      <th></th>\n",
       "      <th></th>\n",
       "      <th></th>\n",
       "      <th></th>\n",
       "    </tr>\n",
       "  </thead>\n",
       "  <tbody>\n",
       "    <tr>\n",
       "      <th>Taken</th>\n",
       "      <td>2002</td>\n",
       "      <td>877.0</td>\n",
       "      <td>3.646723e+07</td>\n",
       "      <td>0.469332</td>\n",
       "      <td>6.8</td>\n",
       "    </tr>\n",
       "    <tr>\n",
       "      <th>Band of Brothers</th>\n",
       "      <td>2001</td>\n",
       "      <td>705.0</td>\n",
       "      <td>9.849515e+07</td>\n",
       "      <td>0.537593</td>\n",
       "      <td>8.0</td>\n",
       "    </tr>\n",
       "    <tr>\n",
       "      <th>Shoah</th>\n",
       "      <td>1985</td>\n",
       "      <td>566.0</td>\n",
       "      <td>2.006653e+07</td>\n",
       "      <td>0.147489</td>\n",
       "      <td>8.3</td>\n",
       "    </tr>\n",
       "    <tr>\n",
       "      <th>Life</th>\n",
       "      <td>2009</td>\n",
       "      <td>500.0</td>\n",
       "      <td>2.874344e+07</td>\n",
       "      <td>0.102223</td>\n",
       "      <td>7.0</td>\n",
       "    </tr>\n",
       "    <tr>\n",
       "      <th>Generation Kill</th>\n",
       "      <td>2008</td>\n",
       "      <td>470.0</td>\n",
       "      <td>2.626803e+07</td>\n",
       "      <td>0.336308</td>\n",
       "      <td>6.6</td>\n",
       "    </tr>\n",
       "    <tr>\n",
       "      <th>The Pillars of the Earth</th>\n",
       "      <td>2010</td>\n",
       "      <td>421.0</td>\n",
       "      <td>2.991634e+07</td>\n",
       "      <td>0.082894</td>\n",
       "      <td>7.3</td>\n",
       "    </tr>\n",
       "    <tr>\n",
       "      <th>The Blue Planet</th>\n",
       "      <td>2001</td>\n",
       "      <td>400.0</td>\n",
       "      <td>3.651292e+07</td>\n",
       "      <td>0.114027</td>\n",
       "      <td>6.9</td>\n",
       "    </tr>\n",
       "    <tr>\n",
       "      <th>Crystal Lake Memories: The Complete History of Friday the 13th</th>\n",
       "      <td>2013</td>\n",
       "      <td>400.0</td>\n",
       "      <td>2.733188e+07</td>\n",
       "      <td>0.141918</td>\n",
       "      <td>6.9</td>\n",
       "    </tr>\n",
       "    <tr>\n",
       "      <th>World Without End</th>\n",
       "      <td>2012</td>\n",
       "      <td>389.0</td>\n",
       "      <td>3.288341e+07</td>\n",
       "      <td>0.179240</td>\n",
       "      <td>6.1</td>\n",
       "    </tr>\n",
       "    <tr>\n",
       "      <th>Lonesome Dove</th>\n",
       "      <td>1989</td>\n",
       "      <td>372.0</td>\n",
       "      <td>3.191615e+07</td>\n",
       "      <td>0.123132</td>\n",
       "      <td>7.4</td>\n",
       "    </tr>\n",
       "  </tbody>\n",
       "</table>\n",
       "</div>"
      ],
      "text/plain": [
       "                                                    release_year  runtime  \\\n",
       "original_title                                                              \n",
       "Taken                                                       2002    877.0   \n",
       "Band of Brothers                                            2001    705.0   \n",
       "Shoah                                                       1985    566.0   \n",
       "Life                                                        2009    500.0   \n",
       "Generation Kill                                             2008    470.0   \n",
       "The Pillars of the Earth                                    2010    421.0   \n",
       "The Blue Planet                                             2001    400.0   \n",
       "Crystal Lake Memories: The Complete History of ...          2013    400.0   \n",
       "World Without End                                           2012    389.0   \n",
       "Lonesome Dove                                               1989    372.0   \n",
       "\n",
       "                                                          profit  popularity  \\\n",
       "original_title                                                                 \n",
       "Taken                                               3.646723e+07    0.469332   \n",
       "Band of Brothers                                    9.849515e+07    0.537593   \n",
       "Shoah                                               2.006653e+07    0.147489   \n",
       "Life                                                2.874344e+07    0.102223   \n",
       "Generation Kill                                     2.626803e+07    0.336308   \n",
       "The Pillars of the Earth                            2.991634e+07    0.082894   \n",
       "The Blue Planet                                     3.651292e+07    0.114027   \n",
       "Crystal Lake Memories: The Complete History of ...  2.733188e+07    0.141918   \n",
       "World Without End                                   3.288341e+07    0.179240   \n",
       "Lonesome Dove                                       3.191615e+07    0.123132   \n",
       "\n",
       "                                                    vote_average  \n",
       "original_title                                                    \n",
       "Taken                                                        6.8  \n",
       "Band of Brothers                                             8.0  \n",
       "Shoah                                                        8.3  \n",
       "Life                                                         7.0  \n",
       "Generation Kill                                              6.6  \n",
       "The Pillars of the Earth                                     7.3  \n",
       "The Blue Planet                                              6.9  \n",
       "Crystal Lake Memories: The Complete History of ...           6.9  \n",
       "World Without End                                            6.1  \n",
       "Lonesome Dove                                                7.4  "
      ]
     },
     "execution_count": 88,
     "metadata": {},
     "output_type": "execute_result"
    }
   ],
   "source": [
    "# Checking the top 10 longest movie runtime\n",
    "\n",
    "top10_len = imdb_data.nlargest(10,'runtime')[['original_title','release_year', 'runtime','profit','popularity','vote_average']].set_index('original_title')\n",
    "top10_len"
   ]
  },
  {
   "cell_type": "markdown",
   "metadata": {},
   "source": [
    "Taken is the movie with the longest runtime as shown in the barplot below."
   ]
  },
  {
   "cell_type": "code",
   "execution_count": 89,
   "metadata": {},
   "outputs": [
    {
     "data": {
      "image/png": "[encoded data removed]",
      "text/plain": [
       "<Figure size 432x288 with 1 Axes>"
      ]
     },
     "metadata": {
      "needs_background": "light"
     },
     "output_type": "display_data"
    }
   ],
   "source": [
    "# Barplot showing the top 10 lengthy movies\n",
    "\n",
    "sns.barplot(x='runtime', y=top10_len.index, data=top10_len);"
   ]
  },
  {
   "cell_type": "markdown",
   "metadata": {},
   "source": [
    " "
   ]
  },
  {
   "cell_type": "code",
   "execution_count": 90,
   "metadata": {},
   "outputs": [
    {
     "data": {
      "image/png": "[encoded data removed]",
      "text/plain": [
       "<Figure size 432x288 with 1 Axes>"
      ]
     },
     "metadata": {
      "needs_background": "light"
     },
     "output_type": "display_data"
    }
   ],
   "source": [
    "#Barplot showing the profit of the top 10 lengthy movies\n",
    "\n",
    "sns.barplot(x='profit', y=top10_len.index, data=top10_len);"
   ]
  },
  {
   "cell_type": "markdown",
   "metadata": {},
   "source": [
    "From the top 10, only the movie Band of Brothers appears to have generated much profit compared to the rest."
   ]
  },
  {
   "cell_type": "code",
   "execution_count": 91,
   "metadata": {},
   "outputs": [
    {
     "data": {
      "image/png": "[encoded data removed]",
      "text/plain": [
       "<Figure size 432x288 with 1 Axes>"
      ]
     },
     "metadata": {
      "needs_background": "light"
     },
     "output_type": "display_data"
    }
   ],
   "source": [
    "#Barplot showing the popularity of the top 10 lengthy movies\n",
    "\n",
    "sns.barplot(x='popularity', y=top10_len.index, data=top10_len);"
   ]
  },
  {
   "cell_type": "markdown",
   "metadata": {},
   "source": [
    "The barplot above shows that lengthy movies may not be as popular."
   ]
  },
  {
   "cell_type": "code",
   "execution_count": 92,
   "metadata": {},
   "outputs": [
    {
     "data": {
      "image/png": "[encoded data removed]",
      "text/plain": [
       "<Figure size 432x288 with 1 Axes>"
      ]
     },
     "metadata": {
      "needs_background": "light"
     },
     "output_type": "display_data"
    }
   ],
   "source": [
    "#Barplot showing the vote average of the top 10 lengthy movies\n",
    "\n",
    "sns.barplot(x='vote_average', y=top10_len.index, data=top10_len);"
   ]
  },
  {
   "cell_type": "markdown",
   "metadata": {},
   "source": [
    "Lengthy movies have a vote average of 7, which is fairly good."
   ]
  },
  {
   "cell_type": "markdown",
   "metadata": {},
   "source": [
    "### Question 5. Using the profit to budget ratio, which are the highest grossing movies?"
   ]
  },
  {
   "cell_type": "code",
   "execution_count": 93,
   "metadata": {},
   "outputs": [
    {
     "data": {
      "text/html": [
       "<style type=\"text/css\">\n",
       "</style>\n",
       "<table id=\"T_d6660\">\n",
       "  <thead>\n",
       "    <tr>\n",
       "      <th id=\"T_d6660_level0_col0\" class=\"col_heading level0 col0\" >original_title</th>\n",
       "      <th id=\"T_d6660_level0_col1\" class=\"col_heading level0 col1\" >release_year</th>\n",
       "      <th id=\"T_d6660_level0_col2\" class=\"col_heading level0 col2\" >budget</th>\n",
       "      <th id=\"T_d6660_level0_col3\" class=\"col_heading level0 col3\" >profit</th>\n",
       "      <th id=\"T_d6660_level0_col4\" class=\"col_heading level0 col4\" >profit_budget_ratio</th>\n",
       "      <th id=\"T_d6660_level0_col5\" class=\"col_heading level0 col5\" >popularity</th>\n",
       "    </tr>\n",
       "  </thead>\n",
       "  <tbody>\n",
       "    <tr>\n",
       "      <td id=\"T_d6660_row0_col0\" class=\"data row0 col0\" >The Karate Kid, Part II</td>\n",
       "      <td id=\"T_d6660_row0_col1\" class=\"data row0 col1\" >1986</td>\n",
       "      <td id=\"T_d6660_row0_col2\" class=\"data row0 col2\" >113.000000</td>\n",
       "      <td id=\"T_d6660_row0_col3\" class=\"data row0 col3\" >115103866.000000</td>\n",
       "      <td id=\"T_d6660_row0_col4\" class=\"data row0 col4\" >1018618.283186</td>\n",
       "      <td id=\"T_d6660_row0_col5\" class=\"data row0 col5\" >0.772494</td>\n",
       "    </tr>\n",
       "    <tr>\n",
       "      <td id=\"T_d6660_row1_col0\" class=\"data row1 col0\" >Into the Night</td>\n",
       "      <td id=\"T_d6660_row1_col1\" class=\"data row1 col1\" >1985</td>\n",
       "      <td id=\"T_d6660_row1_col2\" class=\"data row1 col2\" >114.000000</td>\n",
       "      <td id=\"T_d6660_row1_col3\" class=\"data row1 col3\" >6699886.000000</td>\n",
       "      <td id=\"T_d6660_row1_col4\" class=\"data row1 col4\" >58770.929825</td>\n",
       "      <td id=\"T_d6660_row1_col5\" class=\"data row1 col5\" >0.132713</td>\n",
       "    </tr>\n",
       "    <tr>\n",
       "      <td id=\"T_d6660_row2_col0\" class=\"data row2 col0\" >From Prada to Nada</td>\n",
       "      <td id=\"T_d6660_row2_col1\" class=\"data row2 col1\" >2011</td>\n",
       "      <td id=\"T_d6660_row2_col2\" class=\"data row2 col2\" >93.000000</td>\n",
       "      <td id=\"T_d6660_row2_col3\" class=\"data row2 col3\" >2499907.000000</td>\n",
       "      <td id=\"T_d6660_row2_col4\" class=\"data row2 col4\" >26880.720430</td>\n",
       "      <td id=\"T_d6660_row2_col5\" class=\"data row2 col5\" >0.463510</td>\n",
       "    </tr>\n",
       "    <tr>\n",
       "      <td id=\"T_d6660_row3_col0\" class=\"data row3 col0\" >Paranormal Activity</td>\n",
       "      <td id=\"T_d6660_row3_col1\" class=\"data row3 col1\" >2007</td>\n",
       "      <td id=\"T_d6660_row3_col2\" class=\"data row3 col2\" >15000.000000</td>\n",
       "      <td id=\"T_d6660_row3_col3\" class=\"data row3 col3\" >193340800.000000</td>\n",
       "      <td id=\"T_d6660_row3_col4\" class=\"data row3 col4\" >12889.386667</td>\n",
       "      <td id=\"T_d6660_row3_col5\" class=\"data row3 col5\" >1.120442</td>\n",
       "    </tr>\n",
       "    <tr>\n",
       "      <td id=\"T_d6660_row4_col0\" class=\"data row4 col0\" >The Blair Witch Project</td>\n",
       "      <td id=\"T_d6660_row4_col1\" class=\"data row4 col1\" >1999</td>\n",
       "      <td id=\"T_d6660_row4_col2\" class=\"data row4 col2\" >25000.000000</td>\n",
       "      <td id=\"T_d6660_row4_col3\" class=\"data row4 col3\" >247975000.000000</td>\n",
       "      <td id=\"T_d6660_row4_col4\" class=\"data row4 col4\" >9919.000000</td>\n",
       "      <td id=\"T_d6660_row4_col5\" class=\"data row4 col5\" >0.934621</td>\n",
       "    </tr>\n",
       "    <tr>\n",
       "      <td id=\"T_d6660_row5_col0\" class=\"data row5 col0\" >Love, Wedding, Marriage</td>\n",
       "      <td id=\"T_d6660_row5_col1\" class=\"data row5 col1\" >2011</td>\n",
       "      <td id=\"T_d6660_row5_col2\" class=\"data row5 col2\" >1.000000</td>\n",
       "      <td id=\"T_d6660_row5_col3\" class=\"data row5 col3\" >1377.000000</td>\n",
       "      <td id=\"T_d6660_row5_col4\" class=\"data row5 col4\" >1377.000000</td>\n",
       "      <td id=\"T_d6660_row5_col5\" class=\"data row5 col5\" >0.520430</td>\n",
       "    </tr>\n",
       "    <tr>\n",
       "      <td id=\"T_d6660_row6_col0\" class=\"data row6 col0\" >Eraserhead</td>\n",
       "      <td id=\"T_d6660_row6_col1\" class=\"data row6 col1\" >1977</td>\n",
       "      <td id=\"T_d6660_row6_col2\" class=\"data row6 col2\" >10000.000000</td>\n",
       "      <td id=\"T_d6660_row6_col3\" class=\"data row6 col3\" >6990000.000000</td>\n",
       "      <td id=\"T_d6660_row6_col4\" class=\"data row6 col4\" >699.000000</td>\n",
       "      <td id=\"T_d6660_row6_col5\" class=\"data row6 col5\" >0.331417</td>\n",
       "    </tr>\n",
       "    <tr>\n",
       "      <td id=\"T_d6660_row7_col0\" class=\"data row7 col0\" >Pink Flamingos</td>\n",
       "      <td id=\"T_d6660_row7_col1\" class=\"data row7 col1\" >1972</td>\n",
       "      <td id=\"T_d6660_row7_col2\" class=\"data row7 col2\" >12000.000000</td>\n",
       "      <td id=\"T_d6660_row7_col3\" class=\"data row7 col3\" >5988000.000000</td>\n",
       "      <td id=\"T_d6660_row7_col4\" class=\"data row7 col4\" >499.000000</td>\n",
       "      <td id=\"T_d6660_row7_col5\" class=\"data row7 col5\" >0.412913</td>\n",
       "    </tr>\n",
       "    <tr>\n",
       "      <td id=\"T_d6660_row8_col0\" class=\"data row8 col0\" >Super Size Me</td>\n",
       "      <td id=\"T_d6660_row8_col1\" class=\"data row8 col1\" >2004</td>\n",
       "      <td id=\"T_d6660_row8_col2\" class=\"data row8 col2\" >65000.000000</td>\n",
       "      <td id=\"T_d6660_row8_col3\" class=\"data row8 col3\" >28510078.000000</td>\n",
       "      <td id=\"T_d6660_row8_col4\" class=\"data row8 col4\" >438.616585</td>\n",
       "      <td id=\"T_d6660_row8_col5\" class=\"data row8 col5\" >0.263897</td>\n",
       "    </tr>\n",
       "    <tr>\n",
       "      <td id=\"T_d6660_row9_col0\" class=\"data row9 col0\" >The Gallows</td>\n",
       "      <td id=\"T_d6660_row9_col1\" class=\"data row9 col1\" >2015</td>\n",
       "      <td id=\"T_d6660_row9_col2\" class=\"data row9 col2\" >100000.000000</td>\n",
       "      <td id=\"T_d6660_row9_col3\" class=\"data row9 col3\" >42564410.000000</td>\n",
       "      <td id=\"T_d6660_row9_col4\" class=\"data row9 col4\" >425.644100</td>\n",
       "      <td id=\"T_d6660_row9_col5\" class=\"data row9 col5\" >0.532205</td>\n",
       "    </tr>\n",
       "    <tr>\n",
       "      <td id=\"T_d6660_row10_col0\" class=\"data row10 col0\" >Open Water</td>\n",
       "      <td id=\"T_d6660_row10_col1\" class=\"data row10 col1\" >2004</td>\n",
       "      <td id=\"T_d6660_row10_col2\" class=\"data row10 col2\" >130000.000000</td>\n",
       "      <td id=\"T_d6660_row10_col3\" class=\"data row10 col3\" >54537954.000000</td>\n",
       "      <td id=\"T_d6660_row10_col4\" class=\"data row10 col4\" >419.522723</td>\n",
       "      <td id=\"T_d6660_row10_col5\" class=\"data row10 col5\" >0.762134</td>\n",
       "    </tr>\n",
       "    <tr>\n",
       "      <td id=\"T_d6660_row11_col0\" class=\"data row11 col0\" >The Texas Chain Saw Massacre</td>\n",
       "      <td id=\"T_d6660_row11_col1\" class=\"data row11 col1\" >1974</td>\n",
       "      <td id=\"T_d6660_row11_col2\" class=\"data row11 col2\" >85000.000000</td>\n",
       "      <td id=\"T_d6660_row11_col3\" class=\"data row11 col3\" >30774000.000000</td>\n",
       "      <td id=\"T_d6660_row11_col4\" class=\"data row11 col4\" >362.047059</td>\n",
       "      <td id=\"T_d6660_row11_col5\" class=\"data row11 col5\" >0.906087</td>\n",
       "    </tr>\n",
       "    <tr>\n",
       "      <td id=\"T_d6660_row12_col0\" class=\"data row12 col0\" >Mad Max</td>\n",
       "      <td id=\"T_d6660_row12_col1\" class=\"data row12 col1\" >1979</td>\n",
       "      <td id=\"T_d6660_row12_col2\" class=\"data row12 col2\" >400000.000000</td>\n",
       "      <td id=\"T_d6660_row12_col3\" class=\"data row12 col3\" >99600000.000000</td>\n",
       "      <td id=\"T_d6660_row12_col4\" class=\"data row12 col4\" >249.000000</td>\n",
       "      <td id=\"T_d6660_row12_col5\" class=\"data row12 col5\" >2.012021</td>\n",
       "    </tr>\n",
       "    <tr>\n",
       "      <td id=\"T_d6660_row13_col0\" class=\"data row13 col0\" >Halloween</td>\n",
       "      <td id=\"T_d6660_row13_col1\" class=\"data row13 col1\" >1978</td>\n",
       "      <td id=\"T_d6660_row13_col2\" class=\"data row13 col2\" >300000.000000</td>\n",
       "      <td id=\"T_d6660_row13_col3\" class=\"data row13 col3\" >69700000.000000</td>\n",
       "      <td id=\"T_d6660_row13_col4\" class=\"data row13 col4\" >232.333333</td>\n",
       "      <td id=\"T_d6660_row13_col5\" class=\"data row13 col5\" >1.198849</td>\n",
       "    </tr>\n",
       "    <tr>\n",
       "      <td id=\"T_d6660_row14_col0\" class=\"data row14 col0\" >American Graffiti</td>\n",
       "      <td id=\"T_d6660_row14_col1\" class=\"data row14 col1\" >1973</td>\n",
       "      <td id=\"T_d6660_row14_col2\" class=\"data row14 col2\" >777000.000000</td>\n",
       "      <td id=\"T_d6660_row14_col3\" class=\"data row14 col3\" >114223000.000000</td>\n",
       "      <td id=\"T_d6660_row14_col4\" class=\"data row14 col4\" >147.005148</td>\n",
       "      <td id=\"T_d6660_row14_col5\" class=\"data row14 col5\" >0.684079</td>\n",
       "    </tr>\n",
       "    <tr>\n",
       "      <td id=\"T_d6660_row15_col0\" class=\"data row15 col0\" >Once</td>\n",
       "      <td id=\"T_d6660_row15_col1\" class=\"data row15 col1\" >2007</td>\n",
       "      <td id=\"T_d6660_row15_col2\" class=\"data row15 col2\" >160000.000000</td>\n",
       "      <td id=\"T_d6660_row15_col3\" class=\"data row15 col3\" >20550513.000000</td>\n",
       "      <td id=\"T_d6660_row15_col4\" class=\"data row15 col4\" >128.440706</td>\n",
       "      <td id=\"T_d6660_row15_col5\" class=\"data row15 col5\" >1.254438</td>\n",
       "    </tr>\n",
       "    <tr>\n",
       "      <td id=\"T_d6660_row16_col0\" class=\"data row16 col0\" >Clerks</td>\n",
       "      <td id=\"T_d6660_row16_col1\" class=\"data row16 col1\" >1994</td>\n",
       "      <td id=\"T_d6660_row16_col2\" class=\"data row16 col2\" >27000.000000</td>\n",
       "      <td id=\"T_d6660_row16_col3\" class=\"data row16 col3\" >3124130.000000</td>\n",
       "      <td id=\"T_d6660_row16_col4\" class=\"data row16 col4\" >115.708519</td>\n",
       "      <td id=\"T_d6660_row16_col5\" class=\"data row16 col5\" >1.297355</td>\n",
       "    </tr>\n",
       "    <tr>\n",
       "      <td id=\"T_d6660_row17_col0\" class=\"data row17 col0\" >Napoleon Dynamite</td>\n",
       "      <td id=\"T_d6660_row17_col1\" class=\"data row17 col1\" >2004</td>\n",
       "      <td id=\"T_d6660_row17_col2\" class=\"data row17 col2\" >400000.000000</td>\n",
       "      <td id=\"T_d6660_row17_col3\" class=\"data row17 col3\" >45718097.000000</td>\n",
       "      <td id=\"T_d6660_row17_col4\" class=\"data row17 col4\" >114.295243</td>\n",
       "      <td id=\"T_d6660_row17_col5\" class=\"data row17 col5\" >0.577759</td>\n",
       "    </tr>\n",
       "    <tr>\n",
       "      <td id=\"T_d6660_row18_col0\" class=\"data row18 col0\" >Keeping Mum</td>\n",
       "      <td id=\"T_d6660_row18_col1\" class=\"data row18 col1\" >2005</td>\n",
       "      <td id=\"T_d6660_row18_col2\" class=\"data row18 col2\" >169000.000000</td>\n",
       "      <td id=\"T_d6660_row18_col3\" class=\"data row18 col3\" >18395702.000000</td>\n",
       "      <td id=\"T_d6660_row18_col4\" class=\"data row18 col4\" >108.850308</td>\n",
       "      <td id=\"T_d6660_row18_col5\" class=\"data row18 col5\" >0.733587</td>\n",
       "    </tr>\n",
       "    <tr>\n",
       "      <td id=\"T_d6660_row19_col0\" class=\"data row19 col0\" >The Hills Have Eyes</td>\n",
       "      <td id=\"T_d6660_row19_col1\" class=\"data row19 col1\" >1977</td>\n",
       "      <td id=\"T_d6660_row19_col2\" class=\"data row19 col2\" >230000.000000</td>\n",
       "      <td id=\"T_d6660_row19_col3\" class=\"data row19 col3\" >24770000.000000</td>\n",
       "      <td id=\"T_d6660_row19_col4\" class=\"data row19 col4\" >107.695652</td>\n",
       "      <td id=\"T_d6660_row19_col5\" class=\"data row19 col5\" >0.137351</td>\n",
       "    </tr>\n",
       "  </tbody>\n",
       "</table>\n"
      ],
      "text/plain": [
       "<pandas.io.formats.style.Styler at 0x18dd3b4b880>"
      ]
     },
     "execution_count": 93,
     "metadata": {},
     "output_type": "execute_result"
    }
   ],
   "source": [
    "# Profit to budget ratio. Code reference: https://www.kaggle.com/code/betizazualemu/tmdb-movies-analysis-ipynb\n",
    "\n",
    "#First calculate the profit to budget ratio as follows\n",
    "\n",
    "profit_to_budget_ratio = imdb_data.apply(lambda x: x.profit / x.budget, axis=1).sort_values(ascending=False).head(20)\n",
    "\n",
    "profit_to_budget_proportion_movies = imdb_data[imdb_data.index.isin(profit_to_budget_ratio.index)]\n",
    "profit_to_budget_proportion_movies = profit_to_budget_proportion_movies.reindex(profit_to_budget_ratio.index)\n",
    "\n",
    "\n",
    "profit_to_budget_proportion_movies['profit_budget_ratio'] = profit_to_budget_ratio\n",
    "\n",
    "profit_to_budget_proportion_movies[['original_title','release_year','budget', 'profit', 'profit_budget_ratio', 'popularity']].style.hide(axis='index')"
   ]
  },
  {
   "cell_type": "markdown",
   "metadata": {},
   "source": [
    "Using the profit to budget ratio, Karate Kid, Part II is the highest grossing movie. This is totally different from the initial list of the highest grossing movies"
   ]
  },
  {
   "cell_type": "markdown",
   "metadata": {},
   "source": [
    "### Question 6. Who are the top 10 directors in terms of the following:\n",
    "          \n",
    "####  a) Popularity?\n",
    "####  b) Vote average?\n",
    "####  c) Movies directed?\n"
   ]
  },
  {
   "cell_type": "code",
   "execution_count": 94,
   "metadata": {},
   "outputs": [
    {
     "data": {
      "text/html": [
       "<div>\n",
       "<style scoped>\n",
       "    .dataframe tbody tr th:only-of-type {\n",
       "        vertical-align: middle;\n",
       "    }\n",
       "\n",
       "    .dataframe tbody tr th {\n",
       "        vertical-align: top;\n",
       "    }\n",
       "\n",
       "    .dataframe thead th {\n",
       "        text-align: right;\n",
       "    }\n",
       "</style>\n",
       "<table border=\"1\" class=\"dataframe\">\n",
       "  <thead>\n",
       "    <tr style=\"text-align: right;\">\n",
       "      <th></th>\n",
       "      <th>director</th>\n",
       "      <th>release_year</th>\n",
       "      <th>popularity</th>\n",
       "    </tr>\n",
       "    <tr>\n",
       "      <th>original_title</th>\n",
       "      <th></th>\n",
       "      <th></th>\n",
       "      <th></th>\n",
       "    </tr>\n",
       "  </thead>\n",
       "  <tbody>\n",
       "    <tr>\n",
       "      <th>Jurassic World</th>\n",
       "      <td>Colin Trevorrow</td>\n",
       "      <td>2015</td>\n",
       "      <td>32.985763</td>\n",
       "    </tr>\n",
       "    <tr>\n",
       "      <th>Mad Max: Fury Road</th>\n",
       "      <td>George Miller</td>\n",
       "      <td>2015</td>\n",
       "      <td>28.419936</td>\n",
       "    </tr>\n",
       "    <tr>\n",
       "      <th>Interstellar</th>\n",
       "      <td>Christopher Nolan</td>\n",
       "      <td>2014</td>\n",
       "      <td>24.949134</td>\n",
       "    </tr>\n",
       "    <tr>\n",
       "      <th>Guardians of the Galaxy</th>\n",
       "      <td>James Gunn</td>\n",
       "      <td>2014</td>\n",
       "      <td>14.311205</td>\n",
       "    </tr>\n",
       "    <tr>\n",
       "      <th>Insurgent</th>\n",
       "      <td>Robert Schwentke</td>\n",
       "      <td>2015</td>\n",
       "      <td>13.112507</td>\n",
       "    </tr>\n",
       "    <tr>\n",
       "      <th>Captain America: The Winter Soldier</th>\n",
       "      <td>Joe Russo|Anthony Russo</td>\n",
       "      <td>2014</td>\n",
       "      <td>12.971027</td>\n",
       "    </tr>\n",
       "    <tr>\n",
       "      <th>Star Wars</th>\n",
       "      <td>George Lucas</td>\n",
       "      <td>1977</td>\n",
       "      <td>12.037933</td>\n",
       "    </tr>\n",
       "    <tr>\n",
       "      <th>John Wick</th>\n",
       "      <td>Chad Stahelski|David Leitch</td>\n",
       "      <td>2014</td>\n",
       "      <td>11.422751</td>\n",
       "    </tr>\n",
       "    <tr>\n",
       "      <th>Star Wars: The Force Awakens</th>\n",
       "      <td>J.J. Abrams</td>\n",
       "      <td>2015</td>\n",
       "      <td>11.173104</td>\n",
       "    </tr>\n",
       "    <tr>\n",
       "      <th>The Hunger Games: Mockingjay - Part 1</th>\n",
       "      <td>Francis Lawrence</td>\n",
       "      <td>2014</td>\n",
       "      <td>10.739009</td>\n",
       "    </tr>\n",
       "  </tbody>\n",
       "</table>\n",
       "</div>"
      ],
      "text/plain": [
       "                                                          director  \\\n",
       "original_title                                                       \n",
       "Jurassic World                                     Colin Trevorrow   \n",
       "Mad Max: Fury Road                                   George Miller   \n",
       "Interstellar                                     Christopher Nolan   \n",
       "Guardians of the Galaxy                                 James Gunn   \n",
       "Insurgent                                         Robert Schwentke   \n",
       "Captain America: The Winter Soldier        Joe Russo|Anthony Russo   \n",
       "Star Wars                                             George Lucas   \n",
       "John Wick                              Chad Stahelski|David Leitch   \n",
       "Star Wars: The Force Awakens                           J.J. Abrams   \n",
       "The Hunger Games: Mockingjay - Part 1             Francis Lawrence   \n",
       "\n",
       "                                       release_year  popularity  \n",
       "original_title                                                   \n",
       "Jurassic World                                 2015   32.985763  \n",
       "Mad Max: Fury Road                             2015   28.419936  \n",
       "Interstellar                                   2014   24.949134  \n",
       "Guardians of the Galaxy                        2014   14.311205  \n",
       "Insurgent                                      2015   13.112507  \n",
       "Captain America: The Winter Soldier            2014   12.971027  \n",
       "Star Wars                                      1977   12.037933  \n",
       "John Wick                                      2014   11.422751  \n",
       "Star Wars: The Force Awakens                   2015   11.173104  \n",
       "The Hunger Games: Mockingjay - Part 1          2014   10.739009  "
      ]
     },
     "execution_count": 94,
     "metadata": {},
     "output_type": "execute_result"
    }
   ],
   "source": [
    "#TOP 10 Directors\n",
    "\n",
    "top10_directors = imdb_data.nlargest(10,'popularity')[['director','original_title', 'release_year','popularity']].set_index('original_title')\n",
    "top10_directors"
   ]
  },
  {
   "cell_type": "code",
   "execution_count": 95,
   "metadata": {},
   "outputs": [
    {
     "data": {
      "image/png": "[encoded data removed]",
      "text/plain": [
       "<Figure size 432x288 with 1 Axes>"
      ]
     },
     "metadata": {
      "needs_background": "light"
     },
     "output_type": "display_data"
    }
   ],
   "source": [
    "#Barplot showing the top 10 Directors in terms of popularity\n",
    "\n",
    "sns.barplot(x='popularity', y=top10_directors.index, data=top10_directors, hue='director', dodge=False);\n",
    "\n",
    "plt.legend(bbox_to_anchor=(1.05, 1), loc=2);"
   ]
  },
  {
   "cell_type": "markdown",
   "metadata": {},
   "source": [
    "Colin Trevorrow is the most popular director popularity wise."
   ]
  },
  {
   "cell_type": "code",
   "execution_count": 96,
   "metadata": {},
   "outputs": [
    {
     "data": {
      "text/html": [
       "<div>\n",
       "<style scoped>\n",
       "    .dataframe tbody tr th:only-of-type {\n",
       "        vertical-align: middle;\n",
       "    }\n",
       "\n",
       "    .dataframe tbody tr th {\n",
       "        vertical-align: top;\n",
       "    }\n",
       "\n",
       "    .dataframe thead th {\n",
       "        text-align: right;\n",
       "    }\n",
       "</style>\n",
       "<table border=\"1\" class=\"dataframe\">\n",
       "  <thead>\n",
       "    <tr style=\"text-align: right;\">\n",
       "      <th></th>\n",
       "      <th>director</th>\n",
       "      <th>release_year</th>\n",
       "      <th>vote_average</th>\n",
       "    </tr>\n",
       "    <tr>\n",
       "      <th>original_title</th>\n",
       "      <th></th>\n",
       "      <th></th>\n",
       "      <th></th>\n",
       "    </tr>\n",
       "  </thead>\n",
       "  <tbody>\n",
       "    <tr>\n",
       "      <th>Pink Floyd: Pulse</th>\n",
       "      <td>David Mallet</td>\n",
       "      <td>2006</td>\n",
       "      <td>8.7</td>\n",
       "    </tr>\n",
       "    <tr>\n",
       "      <th>The Art of Flight</th>\n",
       "      <td>Curt Morgan</td>\n",
       "      <td>2011</td>\n",
       "      <td>8.5</td>\n",
       "    </tr>\n",
       "    <tr>\n",
       "      <th>A Personal Journey with Martin Scorsese Through American Movies</th>\n",
       "      <td>Martin Scorsese|Michael Henry Wilson</td>\n",
       "      <td>1995</td>\n",
       "      <td>8.5</td>\n",
       "    </tr>\n",
       "    <tr>\n",
       "      <th>Queen - Rock Montreal</th>\n",
       "      <td>Saul Swimmer</td>\n",
       "      <td>1981</td>\n",
       "      <td>8.5</td>\n",
       "    </tr>\n",
       "    <tr>\n",
       "      <th>The Jinx: The Life and Deaths of Robert Durst</th>\n",
       "      <td>Andrew Jarecki</td>\n",
       "      <td>2015</td>\n",
       "      <td>8.4</td>\n",
       "    </tr>\n",
       "    <tr>\n",
       "      <th>The Shawshank Redemption</th>\n",
       "      <td>Frank Darabont</td>\n",
       "      <td>1994</td>\n",
       "      <td>8.4</td>\n",
       "    </tr>\n",
       "    <tr>\n",
       "      <th>Stop Making Sense</th>\n",
       "      <td>Jonathan Demme</td>\n",
       "      <td>1984</td>\n",
       "      <td>8.4</td>\n",
       "    </tr>\n",
       "    <tr>\n",
       "      <th>One Direction: Where We Are - The Concert</th>\n",
       "      <td>Paul Dugdale</td>\n",
       "      <td>2014</td>\n",
       "      <td>8.3</td>\n",
       "    </tr>\n",
       "    <tr>\n",
       "      <th>Iron Maiden: Flight 666</th>\n",
       "      <td>Sam Dunn|Scot McFadyen</td>\n",
       "      <td>2009</td>\n",
       "      <td>8.3</td>\n",
       "    </tr>\n",
       "    <tr>\n",
       "      <th>Tick Tock Tale</th>\n",
       "      <td>Dean Wellins</td>\n",
       "      <td>2010</td>\n",
       "      <td>8.3</td>\n",
       "    </tr>\n",
       "  </tbody>\n",
       "</table>\n",
       "</div>"
      ],
      "text/plain": [
       "                                                                                director  \\\n",
       "original_title                                                                             \n",
       "Pink Floyd: Pulse                                                           David Mallet   \n",
       "The Art of Flight                                                            Curt Morgan   \n",
       "A Personal Journey with Martin Scorsese Through...  Martin Scorsese|Michael Henry Wilson   \n",
       "Queen - Rock Montreal                                                       Saul Swimmer   \n",
       "The Jinx: The Life and Deaths of Robert Durst                             Andrew Jarecki   \n",
       "The Shawshank Redemption                                                  Frank Darabont   \n",
       "Stop Making Sense                                                         Jonathan Demme   \n",
       "One Direction: Where We Are - The Concert                                   Paul Dugdale   \n",
       "Iron Maiden: Flight 666                                           Sam Dunn|Scot McFadyen   \n",
       "Tick Tock Tale                                                              Dean Wellins   \n",
       "\n",
       "                                                    release_year  vote_average  \n",
       "original_title                                                                  \n",
       "Pink Floyd: Pulse                                           2006           8.7  \n",
       "The Art of Flight                                           2011           8.5  \n",
       "A Personal Journey with Martin Scorsese Through...          1995           8.5  \n",
       "Queen - Rock Montreal                                       1981           8.5  \n",
       "The Jinx: The Life and Deaths of Robert Durst               2015           8.4  \n",
       "The Shawshank Redemption                                    1994           8.4  \n",
       "Stop Making Sense                                           1984           8.4  \n",
       "One Direction: Where We Are - The Concert                   2014           8.3  \n",
       "Iron Maiden: Flight 666                                     2009           8.3  \n",
       "Tick Tock Tale                                              2010           8.3  "
      ]
     },
     "execution_count": 96,
     "metadata": {},
     "output_type": "execute_result"
    }
   ],
   "source": [
    "#code reference: https://www.youtube.com/watch?v=Asm2_qgBK48&t=161s\n",
    "\n",
    "#Top 10 directors in terms of vote average\n",
    "\n",
    "top10_directors_vote_avg = imdb_data.nlargest(10,'vote_average')[['original_title','director','release_year', 'vote_average']].set_index('original_title')\n",
    "top10_directors_vote_avg"
   ]
  },
  {
   "cell_type": "code",
   "execution_count": 97,
   "metadata": {},
   "outputs": [
    {
     "data": {
      "image/png": "[encoded data removed]",
      "text/plain": [
       "<Figure size 432x288 with 1 Axes>"
      ]
     },
     "metadata": {
      "needs_background": "light"
     },
     "output_type": "display_data"
    }
   ],
   "source": [
    "#Barplot showing the top 10 directors in terms of vote average\n",
    "\n",
    "sns.barplot(x='vote_average', y=top10_directors_vote_avg.index, data=top10_directors_vote_avg, hue='director', dodge=False);\n",
    "\n",
    "plt.legend(bbox_to_anchor=(1.05, 1), loc=2);"
   ]
  },
  {
   "cell_type": "markdown",
   "metadata": {},
   "source": [
    "In terms of vote average, David Mallet tops the list."
   ]
  },
  {
   "cell_type": "code",
   "execution_count": 98,
   "metadata": {},
   "outputs": [
    {
     "data": {
      "text/html": [
       "<div>\n",
       "<style scoped>\n",
       "    .dataframe tbody tr th:only-of-type {\n",
       "        vertical-align: middle;\n",
       "    }\n",
       "\n",
       "    .dataframe tbody tr th {\n",
       "        vertical-align: top;\n",
       "    }\n",
       "\n",
       "    .dataframe thead th {\n",
       "        text-align: right;\n",
       "    }\n",
       "</style>\n",
       "<table border=\"1\" class=\"dataframe\">\n",
       "  <thead>\n",
       "    <tr style=\"text-align: right;\">\n",
       "      <th></th>\n",
       "      <th>director</th>\n",
       "      <th>original_title</th>\n",
       "    </tr>\n",
       "  </thead>\n",
       "  <tbody>\n",
       "    <tr>\n",
       "      <th>4031</th>\n",
       "      <td>Woody Allen</td>\n",
       "      <td>35</td>\n",
       "    </tr>\n",
       "    <tr>\n",
       "      <th>704</th>\n",
       "      <td>Clint Eastwood</td>\n",
       "      <td>34</td>\n",
       "    </tr>\n",
       "    <tr>\n",
       "      <th>3713</th>\n",
       "      <td>Steven Spielberg</td>\n",
       "      <td>27</td>\n",
       "    </tr>\n",
       "    <tr>\n",
       "      <th>2546</th>\n",
       "      <td>Martin Scorsese</td>\n",
       "      <td>23</td>\n",
       "    </tr>\n",
       "    <tr>\n",
       "      <th>3241</th>\n",
       "      <td>Ridley Scott</td>\n",
       "      <td>22</td>\n",
       "    </tr>\n",
       "    <tr>\n",
       "      <th>1888</th>\n",
       "      <td>Joel Schumacher</td>\n",
       "      <td>20</td>\n",
       "    </tr>\n",
       "    <tr>\n",
       "      <th>3374</th>\n",
       "      <td>Ron Howard</td>\n",
       "      <td>19</td>\n",
       "    </tr>\n",
       "    <tr>\n",
       "      <th>458</th>\n",
       "      <td>Brian De Palma</td>\n",
       "      <td>18</td>\n",
       "    </tr>\n",
       "    <tr>\n",
       "      <th>3712</th>\n",
       "      <td>Steven Soderbergh</td>\n",
       "      <td>18</td>\n",
       "    </tr>\n",
       "    <tr>\n",
       "      <th>3583</th>\n",
       "      <td>Sidney Lumet</td>\n",
       "      <td>17</td>\n",
       "    </tr>\n",
       "  </tbody>\n",
       "</table>\n",
       "</div>"
      ],
      "text/plain": [
       "               director  original_title\n",
       "4031        Woody Allen              35\n",
       "704      Clint Eastwood              34\n",
       "3713   Steven Spielberg              27\n",
       "2546    Martin Scorsese              23\n",
       "3241       Ridley Scott              22\n",
       "1888    Joel Schumacher              20\n",
       "3374         Ron Howard              19\n",
       "458      Brian De Palma              18\n",
       "3712  Steven Soderbergh              18\n",
       "3583       Sidney Lumet              17"
      ]
     },
     "execution_count": 98,
     "metadata": {},
     "output_type": "execute_result"
    }
   ],
   "source": [
    "#Top 10 directors in terms of number of movies directed\n",
    "\n",
    "director_movies_count = imdb_data.groupby('director')['original_title'].agg('count').reset_index().sort_values('original_title', ascending=False)\n",
    "\n",
    "director_movies_count.head(10)"
   ]
  },
  {
   "cell_type": "markdown",
   "metadata": {},
   "source": [
    "\n"
   ]
  },
  {
   "cell_type": "markdown",
   "metadata": {},
   "source": [
    "Woody Allen has the highest number of movies directed, with Clint Eastwood being a close second.\n"
   ]
  },
  {
   "cell_type": "markdown",
   "metadata": {},
   "source": [
    "<a id='conclusions'></a>\n",
    "## Conclusions\n"
   ]
  },
  {
   "cell_type": "markdown",
   "metadata": {},
   "source": [
    "1. The highest grossing movies are not necessarily the top most popular movies as reflected in the results. their vote avearge however remains fairly the same that is between 5/10 and 9/10.\n",
    "\n",
    "2. The top most lengthy movies are not as popular or do they yield as much profit, their average vote out of 10 remain fairly the same as the highest grossing movies and the most popular movies.\n",
    "\n",
    "3. The budget to profit ratio shows a different picture in that the profitability of a movie is based on the proportion of the budget to its profit. It the results showed that movies that where profitable between 1960 and 2015 were not the highest grssoign movies. This can be attributed the fact that big budget movies will yield the most revenue hpwever they may not be as profitable. The vote average for these movies was above 8/10.\n",
    "\n",
    "4. Woody Allen has directed 35 movies between 1960 and 2015 with Clint Eastwood a close second, Colin Trevorrow directed the most popular movie in the data given and David mallet directed the movie with the highest average vote.\n",
    "\n",
    "5. It can be deduced that popularity does not necessarily translate into profit or yielding high profit. \n",
    "\n",
    "### Limitations\n",
    "\n",
    "1. The dataset had a massive amount of zero values for the revenue and budget variables which had to be replaced with yearly means thus not reflecting the true profit values for most movies.\n",
    "\n",
    "2. The dataset is outdated as it does not factor in the easy of access to movies through streaming services (Netflis, Amazom Prime, Disney Plus, e.t.c) and illegal downlaods which affect the profit of movies."
   ]
  },
  {
   "cell_type": "code",
   "execution_count": null,
   "metadata": {},
   "outputs": [],
   "source": []
  }
 ],
 "metadata": {
  "kernelspec": {
   "display_name": "Python 3 (ipykernel)",
   "language": "python",
   "name": "python3"
  },
  "language_info": {
   "codemirror_mode": {
    "name": "ipython",
    "version": 3
   },
   "file_extension": ".py",
   "mimetype": "text/x-python",
   "name": "python",
   "nbconvert_exporter": "python",
   "pygments_lexer": "ipython3",
   "version": "3.9.7"
  }
 },
 "nbformat": 4,
 "nbformat_minor": 2
}
